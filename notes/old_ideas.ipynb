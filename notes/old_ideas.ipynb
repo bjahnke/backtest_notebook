{
 "cells": [
  {
   "cell_type": "code",
   "execution_count": null,
   "metadata": {
    "collapsed": true
   },
   "outputs": [],
   "source": [
    "import pickle\n",
    "import pandas as pd\n",
    "from matplotlib import pyplot as plt\n",
    "import numpy as np\n",
    "import data_manager.utils as sbtu\n",
    "import data_manager.scanner as scanner\n",
    "import regime as sur\n",
    "import scripts\n",
    "# import src.floor_ceiling_regime"
   ]
  },
  {
   "cell_type": "code",
   "execution_count": null,
   "outputs": [],
   "source": [
    "(\n",
    "    _price_data,\n",
    "    _bench,\n",
    "    _strategy_overview,\n",
    "    _peak_table,\n",
    "    _entry_table,\n",
    "    _strategy_lookup\n",
    ") = scripts.load_data_package()\n",
    "_relative_rebased = sbtu.PriceGlob(_price_data).relative_rebased(_bench.close)\n",
    "_price_data_by_symbol = sbtu.PriceGlob(_price_data).swap_level()\n",
    "\n",
    "\n",
    "symbol = 'AAPL'\n",
    "_symbol_data = _price_data_by_symbol.data[symbol]"
   ],
   "metadata": {
    "collapsed": false,
    "pycharm": {
     "name": "#%%\n"
    }
   }
  },
  {
   "cell_type": "code",
   "execution_count": null,
   "outputs": [],
   "source": [
    "_prev_exits = _entry_table.loc[\n",
    "    (_entry_table.exit_signal_date != _symbol_data.index[-1])\n",
    "].copy()\n",
    "_prev_exits['sig_len'] = (_prev_exits.exit_signal_date - _prev_exits.entry)\n",
    "_prev_exits['partial_sig_len'] = (_prev_exits.partial_exit_date - _prev_exits.entry)"
   ],
   "metadata": {
    "collapsed": false,
    "pycharm": {
     "name": "#%%\n"
    }
   }
  },
  {
   "cell_type": "code",
   "execution_count": null,
   "outputs": [],
   "source": [
    "sw = _peak_table.loc[(_peak_table.lvl == 2)].copy()\n",
    "sw['sw_px_gap'] = (sw.en_px.shift(1) - sw.en_px) * sw.type\n",
    "sw.loc[sw.symbol != sw.symbol.shift(1), 'sw_px_gap'] = np.nan\n",
    "c = sw.sw_px_gap.loc[sw.sw_px_gap < 0].count()\n",
    "win_rate = c / len(sw.loc[sw.sw_px_gap.notna()])\n",
    "avg_win = sw.sw_px_gap.loc[sw.sw_px_gap < 0].sum() / len(sw.loc[sw.sw_px_gap.notna()]) * -1\n",
    "avg_loss = sw.sw_px_gap.loc[sw.sw_px_gap > 0].sum() / len(sw.loc[sw.sw_px_gap.notna()])\n",
    "win_rate * avg_win - (1-win_rate) * avg_loss\n",
    "\n",
    "# lim = 2.5\n",
    "# sw.sw_px_gap.loc[(sw.sw_px_gap < lim) & (sw.sw_px_gap > -lim)].plot.hist(bins=20)"
   ],
   "metadata": {
    "collapsed": false,
    "pycharm": {
     "name": "#%%\n"
    }
   }
  },
  {
   "cell_type": "code",
   "execution_count": null,
   "outputs": [],
   "source": [
    "_entry_table['sig_len'] = (_entry_table.exit_signal_date - _entry_table.entry)\n",
    "_entry_table['sig_len'].plot.hist(bins=20)\n",
    "\n",
    "ax = _entry_table.plot.scatter(x='r_pct', y='my_total')\n",
    "_entries_partial_exit = _entry_table.loc[_entry_table.partial_exit_date.notna()].copy()\n",
    "\n",
    "_entries_partial_exit.plot.scatter(x='r_pct', y='my_total', color='r', ax=ax)\n",
    "\n",
    "len(_entries_partial_exit) / len(_entry_table)\n"
   ],
   "metadata": {
    "collapsed": false,
    "pycharm": {
     "name": "#%%\n"
    }
   }
  },
  {
   "cell_type": "code",
   "execution_count": null,
   "outputs": [],
   "source": [
    "_entry_table.loc[abs(_entry_table.r_pct) > 0.2]"
   ],
   "metadata": {
    "collapsed": false,
    "pycharm": {
     "name": "#%%\n"
    }
   }
  },
  {
   "cell_type": "code",
   "execution_count": null,
   "outputs": [],
   "source": [
    "_entry_table['entry_lag'] = (_entry_table.entry - _entry_table.trail_stop)\n",
    "_entry_table['entry_v'] = _entry_table.r_pct / _entry_table.entry_lag\n",
    "# _entry_table.entry_lag.plot.hist(bins=20)\n",
    "_entry_table['entry_v'] = abs(_entry_table.entry_v)\n",
    "_entry_table.entry_lag.plot.hist(bins=20)"
   ],
   "metadata": {
    "collapsed": false,
    "pycharm": {
     "name": "#%%\n"
    }
   }
  },
  {
   "cell_type": "code",
   "execution_count": null,
   "outputs": [],
   "source": [
    "_entry_table.plot.scatter(x='entry_v', y='my_total')"
   ],
   "metadata": {
    "collapsed": false,
    "pycharm": {
     "name": "#%%\n"
    }
   }
  },
  {
   "cell_type": "code",
   "execution_count": null,
   "outputs": [],
   "source": [
    "\n",
    "def get_peaks_between_entry_discovery(ent_table, pks):\n",
    "    rows = []\n",
    "    for idx, row_data in ent_table.iterrows():\n",
    "        peak_query = (\n",
    "                (pks.start > row_data.trail_stop) &\n",
    "                (pks.start < row_data.entry) &\n",
    "                (pks.type != row_data.dir) &\n",
    "                (pks.symbol == row_data.symbol)\n",
    "        )\n",
    "        peaks = pks.loc[peak_query]\n",
    "        prior_peaks_q = peak_query.shift(-1)\n",
    "        prior_peaks_q.iat[-1] = False\n",
    "        prior_peaks = pks.loc[prior_peaks_q]\n",
    "\n",
    "        if not peaks.empty:\n",
    "            _row = row_data.copy()\n",
    "            _row['op_sw_dt'] = peaks.end.iat[0]\n",
    "            rows.append(_row)\n",
    "\n",
    "    return pd.DataFrame(rows)\n",
    "\n",
    "\n",
    "def get_prior_peak(ent_table, pks, lvl=4):\n",
    "    rows = []\n",
    "    use_lvl = lvl\n",
    "    for idx, row_data in ent_table.iterrows():\n",
    "        use_lvl = lvl\n",
    "        while use_lvl > 0:\n",
    "            pks_cpy = pks.loc[pks.lvl == use_lvl].copy()\n",
    "            peak_query = (\n",
    "                (pks_cpy.start < row_data.entry) &\n",
    "                (((pks_cpy.st_px - row_data.en_px) * row_data.dir) > 0) &\n",
    "                (pks_cpy.type != row_data.dir) &\n",
    "                (pks_cpy.symbol == row_data.symbol)\n",
    "            )\n",
    "            prior_peaks = pks_cpy.loc[peak_query]\n",
    "            if not prior_peaks.empty:\n",
    "                break\n",
    "            use_lvl -= 1\n",
    "\n",
    "\n",
    "        if not prior_peaks.empty:\n",
    "            prior_val = prior_peaks.st_px.iloc[-1]\n",
    "        else:\n",
    "            prior_val = (\n",
    "                (\n",
    "                    pks_cpy.loc[\n",
    "                         (pks_cpy.symbol == row_data.symbol) &\n",
    "                         (pks_cpy.type != row_data.dir), 'st_px'\n",
    "                    ] * row_data.dir\n",
    "                ).max() * row_data.dir\n",
    "            )\n",
    "        dist_diff = ((row_data.target_price - prior_val)/prior_val) * row_data.dir\n",
    "        if dist_diff > 0:\n",
    "            rc = row_data.copy()\n",
    "            rc['dist_diff'] = dist_diff\n",
    "            rows.append(rc)\n",
    "\n",
    "    return pd.DataFrame(rows)\n",
    "\n",
    "lvl_peaks = _peak_table.loc[(_peak_table.lvl == 4)].copy()\n",
    "# rws = get_peaks_between_entry_discovery(_entry_table, lvl_peaks)\n",
    "# print(len(rws.loc[rws.op_sw_dt < rws.entry]) / len(rws))\n",
    "# rws.loc[rws.op_sw_dt > rws.entry, 'my_total'].plot.hist(bins=20)\n",
    "\n",
    "rws = get_prior_peak(_entry_table, lvl_peaks)\n",
    "# rws.my_total.plot.hist(bins=50)"
   ],
   "metadata": {
    "collapsed": false,
    "pycharm": {
     "name": "#%%\n"
    }
   }
  },
  {
   "cell_type": "code",
   "execution_count": null,
   "outputs": [],
   "source": [
    "ax = rws.plot.scatter(x='dist_diff', y='my_total')\n",
    "rws.loc[rws.partial_exit_date.notna()].plot.scatter(x='dist_diff', y='my_total', ax=ax, color='red')"
   ],
   "metadata": {
    "collapsed": false,
    "pycharm": {
     "name": "#%%\n"
    }
   }
  }
 ],
 "metadata": {
  "kernelspec": {
   "display_name": "Python 3",
   "language": "python",
   "name": "python3"
  },
  "language_info": {
   "codemirror_mode": {
    "name": "ipython",
    "version": 2
   },
   "file_extension": ".py",
   "mimetype": "text/x-python",
   "name": "python",
   "nbconvert_exporter": "python",
   "pygments_lexer": "ipython2",
   "version": "2.7.6"
  }
 },
 "nbformat": 4,
 "nbformat_minor": 0
}