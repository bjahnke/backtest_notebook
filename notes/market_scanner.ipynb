{
 "cells": [
  {
   "metadata": {},
   "cell_type": "markdown",
   "source": [
    "# Preliminary instruction\n",
    "\n",
    "To follow the code in this chapter, the `yfinance` package must be installed in your environment. If you do not have this installed yet, review Chapter 4 for instructions on how to do so."
   ]
  },
  {
   "metadata": {},
   "cell_type": "markdown",
   "source": [
    "# SCREENING ACROSS THE S&P 500 INDEX"
   ]
  },
  {
   "cell_type": "markdown",
   "source": [],
   "metadata": {
    "collapsed": false
   }
  },
  {
   "metadata": {},
   "cell_type": "markdown",
   "source": [
    "### Floor/Ceiling regime definition\n",
    "\n",
    "Unlike the previous methodologies, the floor/ceiling regime definitionis computationally intense. It is in two parts:\n",
    "\n",
    "1. Swing detection is a succession of functions. It is broadly split in two parts:\n",
    "    1. historical swing detection: all the swings leading up to the latest one\n",
    "        1. historical_swings: this uses find_peaks to find small peaks. This function loops over series coming from the hilo alternation function to zoom out\n",
    "        2. hilo alternation: this function simply reduces series to alternate highs and lows\n",
    "    2. latest swing detection: rapid fire functions to detect the latest swing in real time\n",
    "        1. cleanup_latest_swing: Eliminate false positives Swing High/Low last swing\n",
    "        2. latest_swing_variables: Set-up arguments for latest swing High or Low\n",
    "        3. test_distance: noise filter: removes short amplitude noise\n",
    "        4. average_true_range: classic volatility in 1 line of code\n",
    "        5. retest_swing: retest method\n",
    "        6. retracement_swing: alternative swing detection: retracement from high/low\n",
    "  \n",
    "  \n",
    "2. Floor/ceiling regime definition uses swings detected above\n",
    "    1. Classic regime definition:\n",
    "        1. Bullish: (swing low - bottom)/std > threshold\n",
    "        2. Bearish: (swing high - top)/std < threshold\n",
    "    2. Handling exception:\n",
    "        1. Bearish: Low < swing low\n",
    "        2. Bullish: High > swing high"
   ]
  },
  {
   "metadata": {},
   "cell_type": "markdown",
   "source": [
    "### Swings and Regime summary functions\n",
    "\n",
    "These two functions call the functions necessary to calculate the floor/ceiling.\n",
    "\n",
    "1. swings: A simple toggle rel calculates either the absolute (rel = False) or the relative swings\n",
    "\n",
    "2. regime: lvl refers to the swing levels used to calculate regime. For example, Hi2/Lo2 refers to level 2 swings (reduced twice), rH3/rL3 to relative level 3 etc."
   ]
  },
  {
   "metadata": {},
   "cell_type": "markdown",
   "source": [
    "### Graph combo\n",
    "\n",
    "This verbose function visualises all the above regime definition methodologies"
   ]
  },
  {
   "metadata": {},
   "cell_type": "markdown",
   "source": [
    "### New Functions to process data\n",
    "\n",
    "Those two functions were not published earlier in the book.\n",
    "\n",
    "1. yf_droplevel(batch_download,ticker)\n",
    "The batch downoload returns a multiindex dataframe. This drops level from multiindex df to single stock level. \n",
    "    \n",
    "2. last_row_dictionary(df)\n",
    "    1. creates dictionary with last row\n",
    "    2. when last row is N/A, creates additional column with date"
   ]
  },
  {
   "metadata": {},
   "cell_type": "markdown",
   "source": [
    "### Control Panel\n",
    "\n",
    "This is where all arguments and variables are centralised. Dissmeination of variables and arguments the file is a common source of error, hence the centralisation."
   ]
  },
  {
   "metadata": {
    "trusted": true
   },
   "cell_type": "code",
   "source": [
    "import json\n",
    "import tda_access.access as taa\n",
    "import scripts.account_data as sad\n",
    "td_client = taa.TdBrokerClient.init_from_json('..\\\\data_args\\\\credentials.json')"
   ],
   "execution_count": 12,
   "outputs": [
    {
     "ename": "SyntaxError",
     "evalue": "invalid syntax (account_data.py, line 261)",
     "output_type": "error",
     "traceback": [
      "Traceback \u001B[1;36m(most recent call last)\u001B[0m:\n",
      "  File \u001B[0;32mc:\\users\\bjahn\\pycharmprojects\\backtest_notebook\\venv\\lib\\site-packages\\IPython\\core\\interactiveshell.py:3398\u001B[0m in \u001B[0;35mrun_code\u001B[0m\n    exec(code_obj, self.user_global_ns, self.user_ns)\n",
      "\u001B[1;36m  Input \u001B[1;32mIn [12]\u001B[1;36m in \u001B[1;35m<cell line: 3>\u001B[1;36m\u001B[0m\n\u001B[1;33m    import scripts.account_data as sad\u001B[0m\n",
      "\u001B[1;36m  File \u001B[1;32m~\\PycharmProjects\\backtest_notebook\\scripts\\account_data.py:261\u001B[1;36m\u001B[0m\n\u001B[1;33m    def\u001B[0m\n\u001B[1;37m       ^\u001B[0m\n\u001B[1;31mSyntaxError\u001B[0m\u001B[1;31m:\u001B[0m invalid syntax\n"
     ]
    }
   ]
  },
  {
   "cell_type": "code",
   "execution_count": null,
   "outputs": [],
   "source": [
    "\n",
    "with open('scanner_config.json') as fp:\n",
    "    scanner_args = json.load(fp)\n",
    "\n",
    "(\n",
    "    website,\n",
    "    start,\n",
    "    end,\n",
    "    vlty_n,\n",
    "    dist_pct,\n",
    "    retrace_pct,\n",
    "    threshold,\n",
    "    dgt,\n",
    "    d_vol,\n",
    "    r_vol,\n",
    "    lvl,\n",
    "    bm_ticker,\n",
    "    bm_col,\n",
    "    ccy_col,\n",
    "    window,\n",
    "    st,\n",
    "    lt,\n",
    "    save_ticker_df,\n",
    "    save_last_row_df,\n",
    "    save_regime_df\n",
    ") = list(scanner_args.values())\n",
    "\n",
    "fast = st\n",
    "slow = lt\n",
    "\n",
    "batch_size = 20\n",
    "show_batch = True\n",
    "\n",
    "web_df_cols = ['Symbol','Security','GICS Sector','GICS Sub-Industry']\n",
    "regime_cols = [\n",
    "    'rg','rrg',\n",
    "    'smaC'+str(st)+str(lt),'smar'+str(st)+str(lt), 'boHL'+str(slow),\n",
    "    'borr'+str(slow),'ttH'+str(fast)+'L'+str(slow),'ttr'+str(fast)+'r'+str(slow)\n",
    "]\n",
    "swings_cols = [\n",
    "    'flr_dt','flr','clg_dt', 'clg', 'rg_ch',\n",
    "    'Hi'+str(lvl)+'_dt','Hi'+str(lvl),'Lo'+str(lvl)+'_dt','Lo'+str(lvl),\n",
    "    'rflr_dt', 'rflr', 'rclg_dt', 'rclg', 'rrg_ch',\n",
    "    'rH'+str(lvl)+'_dt','rH'+str(lvl),'rL'+str(lvl)+'_dt','rL'+str(lvl)\n",
    "]\n",
    "symbol_cols = ['Symbol','date','Close']\n",
    "\n",
    "last_row_df_cols = symbol_cols + ['score'] + regime_cols + swings_cols"
   ],
   "metadata": {
    "collapsed": false
   }
  },
  {
   "metadata": {},
   "cell_type": "markdown",
   "source": [
    "### Download investment universe from website: Wikipedia\n",
    "\n",
    "Read S&P500 page from Wikipedia, extract a tickers list\n",
    "This line (tickers_list = tickers_list[:]) is used to slice the tickers list and avoid downloading data for the entire set each time"
   ]
  },
  {
   "metadata": {
    "trusted": true
   },
   "cell_type": "code",
   "source": [
    "import pandas as pd\n",
    "\n",
    "web_df = pd.read_html(website)[0]\n",
    "web_df['GICS Sub-Industry'] = web_df['GICS Sub-Industry'].str.replace('&', 'and', regex=True)\n",
    "tickers_list =  list(web_df['Symbol'])\n",
    "tickers_list = tickers_list[:]\n",
    "print('tickers_list',len(tickers_list))\n",
    "web_df.head()"
   ],
   "execution_count": null,
   "outputs": []
  },
  {
   "metadata": {},
   "cell_type": "markdown",
   "source": [
    "### Download & Process: the engine room\n",
    "\n",
    "1. Benchmark download closing price & currency adjustment\n",
    "2. dataframes and lists instantiation\n",
    "3. loop size: number of iterations necessary to loop over the tickers_list\n",
    "4. Outer loop:\n",
    "    1. m,n: index along the batch_list\n",
    "    2. batch_download: download using yfinance:\n",
    "        1. print batch tickers\n",
    "        2. donwload batch\n",
    "        3. try/except: append failed list\n",
    "    3. Second loop for every batch:\n",
    "        1. droplevel to ticker level\n",
    "        2. Calculate swings and regime: abs/rel\n",
    "        3. Third loop: absolute/relative series:\n",
    "            1. process regimes in absolute series\n",
    "            2. reset variables to relative series and process regimes second time\n",
    "        5. boolean save_ticker_df\n",
    "    4. Create a dictionary with last row values. When last row value are N/A, add another key for the date of the last value, then find value\n",
    "    5. append list of dictionary rows\n",
    "5. create a dataframe last_row_df from dictionary\n",
    "6. 'score' column: lateral sum of regime methods absolute & relative\n",
    "7. join last_row_df with web_df\n",
    "8. boolean save_regime_df\n",
    "    \n"
   ]
  },
  {
   "metadata": {},
   "cell_type": "markdown",
   "source": [
    "### Regime df heatmaps by sector and sub-industry\n",
    "\n",
    "The Wikipedia page displays GICS Sectors and Sub-Industry. We group the regime_df by sectors, sub-industry and display\n",
    "\n",
    "1. Top down bird's eye view GICS Sectors\n",
    "2. Bottom up sub-industry\n",
    "3. Sector (alphabetical order) and score (ascending order) to arbitrage sub-industries within sectors\n"
   ]
  },
  {
   "metadata": {
    "scrolled": false,
    "trusted": true
   },
   "cell_type": "code",
   "source": [
    "from notes.scanner_engine import main\n",
    "\n",
    "regime_df = main(**scanner_args)\n",
    "_strategy_lookup, tx_tables, price_histories, bench = sad.main(\n",
    "    td_client=td_client,\n",
    ")"
   ],
   "execution_count": null,
   "outputs": []
  },
  {
   "cell_type": "code",
   "execution_count": null,
   "outputs": [],
   "source": [
    "# delta measures the difference between absolute and relative regimes\n",
    "regime_df['delta'] = 0\n",
    "regime_pairs = [('rg', 'rrg'), ('smaC50200', 'smar50200'), ('boHL200', 'borr200'), ('ttH50L200', 'ttr50r200')]\n",
    "for absolute, relative in regime_pairs:\n",
    "    delta = (regime_df[relative] - regime_df[absolute]) / 2\n",
    "    regime_df['delta'] = regime_df['delta'] + delta\n",
    "\n",
    "regime_df['delta'] = regime_df['delta'] / len(regime_pairs)\n",
    "groupby_cols = ['score', 'delta'] + regime_cols\n",
    "sort_key = ['GICS Sector']\n",
    "regime_df.groupby(sort_key)[groupby_cols].mean().sort_values(\n",
    "    by= 'score').style.background_gradient(\n",
    "    subset= groupby_cols,cmap= 'RdYlGn').format('{:.1g}')"
   ],
   "metadata": {
    "collapsed": false
   }
  },
  {
   "metadata": {
    "scrolled": false,
    "trusted": true
   },
   "cell_type": "code",
   "source": [
    "groupby_cols = ['score', 'delta'] + regime_cols\n",
    "sort_key = ['GICS Sub-Industry']\n",
    "regime_df.groupby(sort_key)[groupby_cols].mean().sort_values(\n",
    "    by= 'score').style.background_gradient(\n",
    "    subset= groupby_cols,cmap= 'RdYlGn').format('{:.1g}')"
   ],
   "execution_count": null,
   "outputs": []
  },
  {
   "metadata": {
    "scrolled": false,
    "trusted": true
   },
   "cell_type": "code",
   "source": [
    "groupby_cols = ['score', 'delta'] + regime_cols\n",
    "sort_key = ['GICS Sector','GICS Sub-Industry']\n",
    "regime_df.groupby(sort_key)[groupby_cols].mean().sort_values(\n",
    "    by= ['GICS Sector','score']).style.background_gradient(\n",
    "    subset= groupby_cols,cmap= 'RdYlGn').format('{:.1g}')"
   ],
   "execution_count": null,
   "outputs": []
  },
  {
   "cell_type": "code",
   "execution_count": null,
   "outputs": [],
   "source": [
    "import pathlib\n",
    "regime_df.to_excel(pathlib.Path('..') / 'data' / 'regimes.xlsx')"
   ],
   "metadata": {
    "collapsed": false
   }
  },
  {
   "metadata": {},
   "cell_type": "markdown",
   "source": [
    "### Single stock visualisation\n",
    "Benchmark needs to be processed only once"
   ]
  },
  {
   "metadata": {
    "trusted": true
   },
   "cell_type": "code",
   "source": [
    "import yfinance as yf\n",
    "# CHAPTER 5: Regime Definition\n",
    "# bm_ticker= '^GSPC'  #BJ: initialized in config\n",
    "bm_df = pd.DataFrame()\n",
    "bm_df[bm_col] = round(yf.download(tickers= bm_ticker,start= start, end = end,interval = \"1d\",\n",
    "                 group_by = 'column',auto_adjust = True, prepost = True, \n",
    "                 treads = True, proxy = None)['Close'],dgt)\n",
    "bm_df[ccy_col] = 1"
   ],
   "execution_count": null,
   "outputs": []
  },
  {
   "metadata": {},
   "cell_type": "markdown",
   "source": [
    "### Single stock visualisation\n",
    "\n",
    "This block of code calculates regimes for a single stock and visualises it\n",
    "\n",
    "1. ticker: select a ticker\n",
    "2. lvl: these are the swing levels used for the calculation of the floor/ceiling regime. Use lvl 2 or 3\n"
   ]
  },
  {
   "metadata": {
    "trusted": true
   },
   "cell_type": "code",
   "source": [
    "from notes.scanner_engine import swings, regime, lower_upper_OHLC, regime_sma, regime_breakout, turtle_trader\n",
    "\n",
    "# CHAPTER 5: Regime Definition\n",
    "ticker = 'BALL'\n",
    "lvl = 3 # Try different levels to see\n",
    "\n",
    "df = round(yf.download(tickers= ticker,start= start, end = end,interval = \"1d\",\n",
    "                 group_by = 'column',auto_adjust = True, prepost = True, \n",
    "                 treads = True, proxy = None),dgt)\n",
    "\n",
    "swing_opts = {\n",
    "    'r_vol': r_vol,\n",
    "    'd_vol': d_vol,\n",
    "    'dist_pct': dist_pct,\n",
    "    'lvl': lvl,\n",
    "    'vlty_n': vlty_n,\n",
    "    'retrace_pct': retrace_pct,\n",
    "    'start': start,\n",
    "    'bm_col': bm_col,\n",
    "    'bm_df': bm_df\n",
    "}\n",
    "regime_opts = {\n",
    "    'lvl': lvl,\n",
    "    'vlty_n': vlty_n,\n",
    "    'threshold': threshold,\n",
    "}\n",
    "df = swings(df,rel = False, **swing_opts)\n",
    "df = regime(df,rel = False, **regime_opts)\n",
    "df = swings(df,rel = True, **swing_opts)\n",
    "df = regime(df,rel= True, **regime_opts)\n",
    "_o,_h,_l,_c = lower_upper_OHLC(df,relative = False)\n",
    "\n",
    "for a in range(2):    \n",
    "    df['sma'+str(_c)[:1]+str(st)+str(lt)] = regime_sma(df,_c,st,lt)\n",
    "    df['bo'+str(_h)[:1]+str(_l)[:1]+ str(slow)] = regime_breakout(df,_h,_l,window)\n",
    "    df['tt'+str(_h)[:1]+str(fast)+str(_l)[:1]+ str(slow)] = turtle_trader(df, _h, _l, slow, fast)\n",
    "    _o,_h,_l,_c = lower_upper_OHLC(df,relative = True)\n",
    "    df[['Close','rClose']].plot(figsize=(20,5),style=['k','grey'],title = str.upper(ticker)+ ' Relative & Absolute')\n",
    "\n",
    "plot_abs_cols = ['Close','Hi'+str(lvl), 'Lo'+str(lvl),'clg','flr','rg_ch','rg']\n",
    "plot_abs_style = ['k', 'ro', 'go', 'kv', 'k^','b:','b--']\n",
    "y2_abs = ['rg']\n",
    "plot_rel_cols = ['rClose','rH'+str(lvl), 'rL'+str(lvl),'rclg','rflr','rrg_ch','rrg']\n",
    "plot_rel_style = ['grey', 'ro', 'go', 'kv', 'k^','m:','m--']\n",
    "y2_rel = ['rrg']\n",
    "df[plot_abs_cols].plot(secondary_y= y2_abs,figsize=(20,8),\n",
    "            title = str.upper(ticker)+ ' Absolute, level:'+str(lvl),# grid=True,\n",
    "            style=plot_abs_style)\n",
    "\n",
    "df[plot_rel_cols].plot(secondary_y=y2_rel,figsize=(20,8),# grid=True,\n",
    "            title = str.upper(ticker)+ ' Relative'+str.upper(bm_ticker)+', level:'+str(lvl),\n",
    "            style=plot_rel_style)\n",
    "\n",
    "df[plot_rel_cols + plot_abs_cols].plot(secondary_y=y2_rel + y2_abs,figsize=(20,8),# grid=True,\n",
    "            title = str.upper(ticker)+ ' Absolute & Relative '+str.upper(bm_ticker)+', level:'+str(lvl),\n",
    "            style=plot_rel_style + plot_abs_style)"
   ],
   "execution_count": null,
   "outputs": []
  },
  {
   "metadata": {},
   "cell_type": "markdown",
   "source": [
    "### Regime combo visualisation\n",
    "This final block of code plots the data in a more visually appealing way"
   ]
  },
  {
   "metadata": {
    "trusted": true
   },
   "cell_type": "code",
   "source": [
    "from notes.scanner_engine import graph_regime_combo\n",
    "\n",
    "# CHAPTER 5: Regime Definition\n",
    "mav = [fast, slow, 200]\n",
    "bo = [fast, slow]\n",
    "# ma_st = ma_mt = ma_lt = lt_lo = lt_hi = st_lo = st_hi = 0\n",
    "\n",
    "_o,_h,_l,_c = lower_upper_OHLC(df,relative = False)\n",
    "ma_st,ma_mt,ma_lt = [df[_c].rolling(mav[t]).mean() for t in range(len(mav))]\n",
    "st_lo,lt_lo = [df[_l].rolling(bo[t]).min() for t in range(len(bo))]\n",
    "st_hi,lt_hi = [df[_h].rolling(bo[t]).max() for t in range(len(bo))]\n",
    "\n",
    "rg_combo = ['Close','rg','Lo'+str(lvl),'Hi'+str(lvl),'Lo'+str(lvl),'Hi'+str(lvl),'clg','flr','rg_ch']\n",
    "_c,rg,lo,hi,slo,shi,clg,flr,rg_ch =[rg_combo[r] for r in range(len(rg_combo)) ]\n",
    "graph_regime_combo(ticker,df,_c,rg,lo,hi,slo,shi,clg,flr,rg_ch,ma_st,ma_mt,ma_lt,lt_lo,lt_hi,st_lo,st_hi)\n",
    "\n",
    "_o,_h,_l,_c = lower_upper_OHLC(df,relative = True)\n",
    "ma_st,ma_mt,ma_lt = [df[_c].rolling(mav[t]).mean() for t in range(len(mav))]\n",
    "st_lo,lt_lo = [df[_l].rolling(bo[t]).min() for t in range(len(bo))]\n",
    "st_hi,lt_hi = [df[_h].rolling(bo[t]).max() for t in range(len(bo))]\n",
    "\n",
    "rrg_combo = ['rClose','rrg','rL'+str(lvl),'rH'+str(lvl),'rL'+str(lvl),'rH'+str(lvl),'rclg','rflr','rrg_ch']\n",
    "_c,rg,lo,hi,slo,shi,clg,flr,rg_ch =[rrg_combo[r] for r in range(len(rrg_combo)) ]\n",
    "graph_regime_combo(ticker,df,_c,rg,lo,hi,slo,shi,clg,flr,rg_ch,ma_st,ma_mt,ma_lt,lt_lo,lt_hi,st_lo,st_hi)"
   ],
   "execution_count": null,
   "outputs": []
  }
 ],
 "metadata": {
  "kernelspec": {
   "name": "python3",
   "display_name": "Python 3",
   "language": "python"
  },
  "language_info": {
   "name": "python",
   "version": "3.6.13",
   "mimetype": "text/x-python",
   "codemirror_mode": {
    "name": "ipython",
    "version": 3
   },
   "pygments_lexer": "ipython3",
   "nbconvert_exporter": "python",
   "file_extension": ".py"
  }
 },
 "nbformat": 4,
 "nbformat_minor": 4
}
