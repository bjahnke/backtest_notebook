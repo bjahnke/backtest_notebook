{
 "cells": [
  {
   "cell_type": "code",
   "execution_count": 1,
   "id": "initial_id",
   "metadata": {
    "collapsed": true,
    "ExecuteTime": {
     "end_time": "2024-03-21T13:13:24.607432100Z",
     "start_time": "2024-03-21T13:13:22.473721Z"
    }
   },
   "outputs": [
    {
     "data": {
      "text/plain": "<IB connected to 127.0.0.1:7496 clientId=0>"
     },
     "execution_count": 1,
     "metadata": {},
     "output_type": "execute_result"
    }
   ],
   "source": [
    "from ib_insync import *\n",
    "import src.floor_ceiling_regime as fcr\n",
    "import scripts.trend_viewer\n",
    "util.startLoop()\n",
    "port = 7496\n",
    "# port = 4001\n",
    "ib = IB()\n",
    "ib.connect('127.0.0.1', port, clientId=0)"
   ]
  },
  {
   "cell_type": "code",
   "execution_count": 2,
   "outputs": [],
   "source": [
    "%matplotlib inline"
   ],
   "metadata": {
    "collapsed": false,
    "ExecuteTime": {
     "end_time": "2024-03-21T13:13:24.620090100Z",
     "start_time": "2024-03-21T13:13:24.607432100Z"
    }
   },
   "id": "bcfe7367f89938ec"
  },
  {
   "cell_type": "code",
   "execution_count": 3,
   "outputs": [
    {
     "data": {
      "text/plain": "                                            contract marketName  minTick  \\\n0  Contract(secType='FUT', conId=620731036, symbo...        MES     0.25   \n1  Contract(secType='FUT', conId=637533398, symbo...        MES     0.25   \n2  Contract(secType='FUT', conId=654503314, symbo...        MES     0.25   \n3  Contract(secType='FUT', conId=672387462, symbo...        MES     0.25   \n4  Contract(secType='FUT', conId=691171673, symbo...        MES     0.25   \n\n                                          orderTypes validExchanges  \\\n0  ACTIVETIM,AD,ADJUST,ALERT,ALGO,ALLOC,AVGCOST,B...            CME   \n1  ACTIVETIM,AD,ADJUST,ALERT,ALGO,ALLOC,AVGCOST,B...            CME   \n2  ACTIVETIM,AD,ADJUST,ALERT,ALGO,ALLOC,AVGCOST,B...            CME   \n3  ACTIVETIM,AD,ADJUST,ALERT,ALGO,ALLOC,AVGCOST,B...            CME   \n4  ACTIVETIM,AD,ADJUST,ALERT,ALGO,ALLOC,AVGCOST,B...            CME   \n\n   priceMagnifier  underConId                                longName  \\\n0               1   362673777  Micro E-Mini S&P 500 Stock Price Index   \n1               1   362673777  Micro E-Mini S&P 500 Stock Price Index   \n2               1   362673777  Micro E-Mini S&P 500 Stock Price Index   \n3               1   362673777  Micro E-Mini S&P 500 Stock Price Index   \n4               1   362673777  Micro E-Mini S&P 500 Stock Price Index   \n\n  contractMonth industry  ... callable putable coupon convertible maturity  \\\n0        202406           ...    False   False      0       False            \n1        202409           ...    False   False      0       False            \n2        202412           ...    False   False      0       False            \n3        202503           ...    False   False      0       False            \n4        202506           ...    False   False      0       False            \n\n  issueDate  nextOptionDate  nextOptionType  nextOptionPartial notes  \n0                                                        False        \n1                                                        False        \n2                                                        False        \n3                                                        False        \n4                                                        False        \n\n[5 rows x 44 columns]",
      "text/html": "<div>\n<style scoped>\n    .dataframe tbody tr th:only-of-type {\n        vertical-align: middle;\n    }\n\n    .dataframe tbody tr th {\n        vertical-align: top;\n    }\n\n    .dataframe thead th {\n        text-align: right;\n    }\n</style>\n<table border=\"1\" class=\"dataframe\">\n  <thead>\n    <tr style=\"text-align: right;\">\n      <th></th>\n      <th>contract</th>\n      <th>marketName</th>\n      <th>minTick</th>\n      <th>orderTypes</th>\n      <th>validExchanges</th>\n      <th>priceMagnifier</th>\n      <th>underConId</th>\n      <th>longName</th>\n      <th>contractMonth</th>\n      <th>industry</th>\n      <th>...</th>\n      <th>callable</th>\n      <th>putable</th>\n      <th>coupon</th>\n      <th>convertible</th>\n      <th>maturity</th>\n      <th>issueDate</th>\n      <th>nextOptionDate</th>\n      <th>nextOptionType</th>\n      <th>nextOptionPartial</th>\n      <th>notes</th>\n    </tr>\n  </thead>\n  <tbody>\n    <tr>\n      <th>0</th>\n      <td>Contract(secType='FUT', conId=620731036, symbo...</td>\n      <td>MES</td>\n      <td>0.25</td>\n      <td>ACTIVETIM,AD,ADJUST,ALERT,ALGO,ALLOC,AVGCOST,B...</td>\n      <td>CME</td>\n      <td>1</td>\n      <td>362673777</td>\n      <td>Micro E-Mini S&amp;P 500 Stock Price Index</td>\n      <td>202406</td>\n      <td></td>\n      <td>...</td>\n      <td>False</td>\n      <td>False</td>\n      <td>0</td>\n      <td>False</td>\n      <td></td>\n      <td></td>\n      <td></td>\n      <td></td>\n      <td>False</td>\n      <td></td>\n    </tr>\n    <tr>\n      <th>1</th>\n      <td>Contract(secType='FUT', conId=637533398, symbo...</td>\n      <td>MES</td>\n      <td>0.25</td>\n      <td>ACTIVETIM,AD,ADJUST,ALERT,ALGO,ALLOC,AVGCOST,B...</td>\n      <td>CME</td>\n      <td>1</td>\n      <td>362673777</td>\n      <td>Micro E-Mini S&amp;P 500 Stock Price Index</td>\n      <td>202409</td>\n      <td></td>\n      <td>...</td>\n      <td>False</td>\n      <td>False</td>\n      <td>0</td>\n      <td>False</td>\n      <td></td>\n      <td></td>\n      <td></td>\n      <td></td>\n      <td>False</td>\n      <td></td>\n    </tr>\n    <tr>\n      <th>2</th>\n      <td>Contract(secType='FUT', conId=654503314, symbo...</td>\n      <td>MES</td>\n      <td>0.25</td>\n      <td>ACTIVETIM,AD,ADJUST,ALERT,ALGO,ALLOC,AVGCOST,B...</td>\n      <td>CME</td>\n      <td>1</td>\n      <td>362673777</td>\n      <td>Micro E-Mini S&amp;P 500 Stock Price Index</td>\n      <td>202412</td>\n      <td></td>\n      <td>...</td>\n      <td>False</td>\n      <td>False</td>\n      <td>0</td>\n      <td>False</td>\n      <td></td>\n      <td></td>\n      <td></td>\n      <td></td>\n      <td>False</td>\n      <td></td>\n    </tr>\n    <tr>\n      <th>3</th>\n      <td>Contract(secType='FUT', conId=672387462, symbo...</td>\n      <td>MES</td>\n      <td>0.25</td>\n      <td>ACTIVETIM,AD,ADJUST,ALERT,ALGO,ALLOC,AVGCOST,B...</td>\n      <td>CME</td>\n      <td>1</td>\n      <td>362673777</td>\n      <td>Micro E-Mini S&amp;P 500 Stock Price Index</td>\n      <td>202503</td>\n      <td></td>\n      <td>...</td>\n      <td>False</td>\n      <td>False</td>\n      <td>0</td>\n      <td>False</td>\n      <td></td>\n      <td></td>\n      <td></td>\n      <td></td>\n      <td>False</td>\n      <td></td>\n    </tr>\n    <tr>\n      <th>4</th>\n      <td>Contract(secType='FUT', conId=691171673, symbo...</td>\n      <td>MES</td>\n      <td>0.25</td>\n      <td>ACTIVETIM,AD,ADJUST,ALERT,ALGO,ALLOC,AVGCOST,B...</td>\n      <td>CME</td>\n      <td>1</td>\n      <td>362673777</td>\n      <td>Micro E-Mini S&amp;P 500 Stock Price Index</td>\n      <td>202506</td>\n      <td></td>\n      <td>...</td>\n      <td>False</td>\n      <td>False</td>\n      <td>0</td>\n      <td>False</td>\n      <td></td>\n      <td></td>\n      <td></td>\n      <td></td>\n      <td>False</td>\n      <td></td>\n    </tr>\n  </tbody>\n</table>\n<p>5 rows × 44 columns</p>\n</div>"
     },
     "execution_count": 3,
     "metadata": {},
     "output_type": "execute_result"
    }
   ],
   "source": [
    "c = ib.reqContractDetails(Contract(symbol='MES', secType='FUT', includeExpired=False))\n",
    "c_df = util.df(c)\n",
    "c_df"
   ],
   "metadata": {
    "collapsed": false,
    "ExecuteTime": {
     "end_time": "2024-03-21T13:13:24.682585800Z",
     "start_time": "2024-03-21T13:13:24.622056700Z"
    }
   },
   "id": "7054ae2e6ae75ff0"
  },
  {
   "cell_type": "code",
   "execution_count": 4,
   "outputs": [],
   "source": [
    "from IPython.display import display, clear_output\n",
    "import matplotlib.pyplot as plt\n",
    "\n",
    "\n",
    "def run(symbol, sec_type, interval='1 min', duration='1 D', use_rth=True, find_retest_swing=True):\n",
    "    contracts = ib.reqContractDetails(Contract(symbol=symbol, secType=sec_type, includeExpired=False))[0]\n",
    "    contract = contracts.contract\n",
    "    _bars = ib.reqHistoricalData(\n",
    "        contract,\n",
    "        endDateTime='',\n",
    "        durationStr=duration,\n",
    "        barSizeSetting=interval,\n",
    "        whatToShow='TRADES',\n",
    "        useRTH=use_rth,\n",
    "        formatDate=1,\n",
    "        keepUpToDate=True\n",
    "    )\n",
    "    def fc_data_from_bars(bars):\n",
    "        prices = util.df(bars).reset_index().rename(columns={'index': 'bar_number'})\n",
    "        tables = fcr.fc_scale_strategy_live(prices, find_retest_swing=find_retest_swing, regime_threshold=0.5)\n",
    "        tables.enhanced_price_data = tables.enhanced_price_data[['close']].reset_index().rename(columns={'index': 'bar_number'})\n",
    "        return tables\n",
    "    \n",
    "    def plot_fc_tables(tables, title):\n",
    "        plot_prices = tables.enhanced_price_data.copy()\n",
    "        plot_prices = scripts.trend_viewer.setup_trend_view_graph_simple(\n",
    "            plot_prices, \n",
    "            tables.regime_table, \n",
    "            tables.peak_table, \n",
    "            tables.floor_ceiling_table\n",
    "        )\n",
    "        plot_prices['rolling_max'] = plot_prices.close.rolling(window=256).max()\n",
    "        plot_prices['rolling_min'] = plot_prices.close.rolling(window=256).min()\n",
    "        plot_prices['trading_range'] = (plot_prices.rolling_max - plot_prices.rolling_min)\n",
    "        plot_prices['trading_range_lo_band'] = plot_prices.rolling_min + plot_prices.trading_range * .61\n",
    "        plot_prices['trading_range_hi_band'] = plot_prices.rolling_min + plot_prices.trading_range * .40\n",
    "        scripts.trend_viewer.plot(plot_prices[-300:], title)\n",
    "        plt.show()\n",
    "        clear_output(wait=True)\n",
    "    \n",
    "    def onBarUpdate(bars, hasNewBar):\n",
    "        title = f'{bars.contract.symbol} {bars[-2].date}'\n",
    "        if hasNewBar:\n",
    "            tables = fc_data_from_bars(bars[:-1])\n",
    "            plot_fc_tables(tables, title)\n",
    "        \n",
    "    _bars.updateEvent += onBarUpdate\n",
    "\n",
    "    ib.sleep(100000)\n",
    "    ib.cancelHistoricalData(_bars)\n",
    "    \n",
    "# calculate RSI run through floor ceiling?"
   ],
   "metadata": {
    "collapsed": false,
    "ExecuteTime": {
     "end_time": "2024-03-21T13:13:24.695283800Z",
     "start_time": "2024-03-21T13:13:24.687471900Z"
    }
   },
   "id": "e2ca37deb27e8dc3"
  },
  {
   "cell_type": "code",
   "execution_count": 5,
   "outputs": [
    {
     "name": "stderr",
     "output_type": "stream",
     "text": [
      "Peer closed connection.\n"
     ]
    },
    {
     "ename": "ConnectionError",
     "evalue": "Socket disconnect",
     "output_type": "error",
     "traceback": [
      "\u001B[1;31m---------------------------------------------------------------------------\u001B[0m",
      "\u001B[1;31mCancelledError\u001B[0m                            Traceback (most recent call last)",
      "File \u001B[1;32m~\\AppData\\Local\\Programs\\Python\\Python39\\lib\\asyncio\\tasks.py:258\u001B[0m, in \u001B[0;36mTask.__step\u001B[1;34m(***failed resolving arguments***)\u001B[0m\n\u001B[0;32m    257\u001B[0m     \u001B[38;5;28;01melse\u001B[39;00m:\n\u001B[1;32m--> 258\u001B[0m         result \u001B[38;5;241m=\u001B[39m \u001B[43mcoro\u001B[49m\u001B[38;5;241;43m.\u001B[39;49m\u001B[43mthrow\u001B[49m\u001B[43m(\u001B[49m\u001B[43mexc\u001B[49m\u001B[43m)\u001B[49m\n\u001B[0;32m    259\u001B[0m \u001B[38;5;28;01mexcept\u001B[39;00m \u001B[38;5;167;01mStopIteration\u001B[39;00m \u001B[38;5;28;01mas\u001B[39;00m exc:\n",
      "File \u001B[1;32m~\\AppData\\Local\\Programs\\Python\\Python39\\lib\\asyncio\\tasks.py:656\u001B[0m, in \u001B[0;36msleep\u001B[1;34m(delay, result, loop)\u001B[0m\n\u001B[0;32m    655\u001B[0m \u001B[38;5;28;01mtry\u001B[39;00m:\n\u001B[1;32m--> 656\u001B[0m     \u001B[38;5;28;01mreturn\u001B[39;00m \u001B[38;5;28;01mawait\u001B[39;00m future\n\u001B[0;32m    657\u001B[0m \u001B[38;5;28;01mfinally\u001B[39;00m:\n",
      "File \u001B[1;32m~\\AppData\\Local\\Programs\\Python\\Python39\\lib\\asyncio\\futures.py:284\u001B[0m, in \u001B[0;36mFuture.__await__\u001B[1;34m(self)\u001B[0m\n\u001B[0;32m    283\u001B[0m     \u001B[38;5;28mself\u001B[39m\u001B[38;5;241m.\u001B[39m_asyncio_future_blocking \u001B[38;5;241m=\u001B[39m \u001B[38;5;28;01mTrue\u001B[39;00m\n\u001B[1;32m--> 284\u001B[0m     \u001B[38;5;28;01myield\u001B[39;00m \u001B[38;5;28mself\u001B[39m  \u001B[38;5;66;03m# This tells Task to wait for completion.\u001B[39;00m\n\u001B[0;32m    285\u001B[0m \u001B[38;5;28;01mif\u001B[39;00m \u001B[38;5;129;01mnot\u001B[39;00m \u001B[38;5;28mself\u001B[39m\u001B[38;5;241m.\u001B[39mdone():\n",
      "File \u001B[1;32m~\\AppData\\Local\\Programs\\Python\\Python39\\lib\\asyncio\\tasks.py:328\u001B[0m, in \u001B[0;36mTask.__wakeup\u001B[1;34m(self, future)\u001B[0m\n\u001B[0;32m    327\u001B[0m \u001B[38;5;28;01mtry\u001B[39;00m:\n\u001B[1;32m--> 328\u001B[0m     \u001B[43mfuture\u001B[49m\u001B[38;5;241;43m.\u001B[39;49m\u001B[43mresult\u001B[49m\u001B[43m(\u001B[49m\u001B[43m)\u001B[49m\n\u001B[0;32m    329\u001B[0m \u001B[38;5;28;01mexcept\u001B[39;00m \u001B[38;5;167;01mBaseException\u001B[39;00m \u001B[38;5;28;01mas\u001B[39;00m exc:\n\u001B[0;32m    330\u001B[0m     \u001B[38;5;66;03m# This may also be a cancellation.\u001B[39;00m\n",
      "File \u001B[1;32m~\\AppData\\Local\\Programs\\Python\\Python39\\lib\\asyncio\\futures.py:196\u001B[0m, in \u001B[0;36mFuture.result\u001B[1;34m(self)\u001B[0m\n\u001B[0;32m    195\u001B[0m     exc \u001B[38;5;241m=\u001B[39m \u001B[38;5;28mself\u001B[39m\u001B[38;5;241m.\u001B[39m_make_cancelled_error()\n\u001B[1;32m--> 196\u001B[0m     \u001B[38;5;28;01mraise\u001B[39;00m exc\n\u001B[0;32m    197\u001B[0m \u001B[38;5;28;01mif\u001B[39;00m \u001B[38;5;28mself\u001B[39m\u001B[38;5;241m.\u001B[39m_state \u001B[38;5;241m!=\u001B[39m _FINISHED:\n",
      "\u001B[1;31mCancelledError\u001B[0m: ",
      "\nDuring handling of the above exception, another exception occurred:\n",
      "\u001B[1;31mCancelledError\u001B[0m                            Traceback (most recent call last)",
      "File \u001B[1;32mc:\\users\\bjahn\\pycharmprojects\\backtest_notebook\\venv\\lib\\site-packages\\ib_insync\\util.py:341\u001B[0m, in \u001B[0;36mrun\u001B[1;34m(timeout, *awaitables)\u001B[0m\n\u001B[0;32m    340\u001B[0m \u001B[38;5;28;01mtry\u001B[39;00m:\n\u001B[1;32m--> 341\u001B[0m     result \u001B[38;5;241m=\u001B[39m \u001B[43mloop\u001B[49m\u001B[38;5;241;43m.\u001B[39;49m\u001B[43mrun_until_complete\u001B[49m\u001B[43m(\u001B[49m\u001B[43mtask\u001B[49m\u001B[43m)\u001B[49m\n\u001B[0;32m    342\u001B[0m \u001B[38;5;28;01mexcept\u001B[39;00m asyncio\u001B[38;5;241m.\u001B[39mCancelledError \u001B[38;5;28;01mas\u001B[39;00m e:\n",
      "File \u001B[1;32mc:\\users\\bjahn\\pycharmprojects\\backtest_notebook\\venv\\lib\\site-packages\\nest_asyncio.py:89\u001B[0m, in \u001B[0;36m_patch_loop.<locals>.run_until_complete\u001B[1;34m(self, future)\u001B[0m\n\u001B[0;32m     87\u001B[0m     \u001B[38;5;28;01mraise\u001B[39;00m \u001B[38;5;167;01mRuntimeError\u001B[39;00m(\n\u001B[0;32m     88\u001B[0m         \u001B[38;5;124m'\u001B[39m\u001B[38;5;124mEvent loop stopped before Future completed.\u001B[39m\u001B[38;5;124m'\u001B[39m)\n\u001B[1;32m---> 89\u001B[0m \u001B[38;5;28;01mreturn\u001B[39;00m \u001B[43mf\u001B[49m\u001B[38;5;241;43m.\u001B[39;49m\u001B[43mresult\u001B[49m\u001B[43m(\u001B[49m\u001B[43m)\u001B[49m\n",
      "File \u001B[1;32m~\\AppData\\Local\\Programs\\Python\\Python39\\lib\\asyncio\\futures.py:196\u001B[0m, in \u001B[0;36mFuture.result\u001B[1;34m(self)\u001B[0m\n\u001B[0;32m    195\u001B[0m     exc \u001B[38;5;241m=\u001B[39m \u001B[38;5;28mself\u001B[39m\u001B[38;5;241m.\u001B[39m_make_cancelled_error()\n\u001B[1;32m--> 196\u001B[0m     \u001B[38;5;28;01mraise\u001B[39;00m exc\n\u001B[0;32m    197\u001B[0m \u001B[38;5;28;01mif\u001B[39;00m \u001B[38;5;28mself\u001B[39m\u001B[38;5;241m.\u001B[39m_state \u001B[38;5;241m!=\u001B[39m _FINISHED:\n",
      "\u001B[1;31mCancelledError\u001B[0m: ",
      "\nDuring handling of the above exception, another exception occurred:\n",
      "\u001B[1;31mConnectionError\u001B[0m                           Traceback (most recent call last)",
      "Input \u001B[1;32mIn [5]\u001B[0m, in \u001B[0;36m<cell line: 1>\u001B[1;34m()\u001B[0m\n\u001B[1;32m----> 1\u001B[0m \u001B[43mrun\u001B[49m\u001B[43m(\u001B[49m\n\u001B[0;32m      2\u001B[0m \u001B[43m    \u001B[49m\u001B[43msymbol\u001B[49m\u001B[38;5;241;43m=\u001B[39;49m\u001B[38;5;124;43m'\u001B[39;49m\u001B[38;5;124;43mMES\u001B[39;49m\u001B[38;5;124;43m'\u001B[39;49m\u001B[43m,\u001B[49m\u001B[43m \u001B[49m\n\u001B[0;32m      3\u001B[0m \u001B[43m    \u001B[49m\u001B[43msec_type\u001B[49m\u001B[38;5;241;43m=\u001B[39;49m\u001B[38;5;124;43m'\u001B[39;49m\u001B[38;5;124;43mFUT\u001B[39;49m\u001B[38;5;124;43m'\u001B[39;49m\u001B[43m,\u001B[49m\n\u001B[0;32m      4\u001B[0m \u001B[43m    \u001B[49m\u001B[43minterval\u001B[49m\u001B[38;5;241;43m=\u001B[39;49m\u001B[38;5;124;43m'\u001B[39;49m\u001B[38;5;124;43m1 min\u001B[39;49m\u001B[38;5;124;43m'\u001B[39;49m\u001B[43m,\u001B[49m\u001B[43m \u001B[49m\n\u001B[0;32m      5\u001B[0m \u001B[43m    \u001B[49m\u001B[43mduration\u001B[49m\u001B[38;5;241;43m=\u001B[39;49m\u001B[38;5;124;43m'\u001B[39;49m\u001B[38;5;124;43m5 D\u001B[39;49m\u001B[38;5;124;43m'\u001B[39;49m\u001B[43m,\u001B[49m\n\u001B[0;32m      6\u001B[0m \u001B[43m    \u001B[49m\u001B[43muse_rth\u001B[49m\u001B[38;5;241;43m=\u001B[39;49m\u001B[38;5;28;43;01mFalse\u001B[39;49;00m\u001B[43m,\u001B[49m\n\u001B[0;32m      7\u001B[0m \u001B[43m    \u001B[49m\u001B[43mfind_retest_swing\u001B[49m\u001B[38;5;241;43m=\u001B[39;49m\u001B[38;5;28;43;01mFalse\u001B[39;49;00m\u001B[43m)\u001B[49m\n",
      "Input \u001B[1;32mIn [4]\u001B[0m, in \u001B[0;36mrun\u001B[1;34m(symbol, sec_type, interval, duration, use_rth, find_retest_swing)\u001B[0m\n\u001B[0;32m     45\u001B[0m         plot_fc_tables(tables, title)\n\u001B[0;32m     47\u001B[0m _bars\u001B[38;5;241m.\u001B[39mupdateEvent \u001B[38;5;241m+\u001B[39m\u001B[38;5;241m=\u001B[39m onBarUpdate\n\u001B[1;32m---> 49\u001B[0m \u001B[43mib\u001B[49m\u001B[38;5;241;43m.\u001B[39;49m\u001B[43msleep\u001B[49m\u001B[43m(\u001B[49m\u001B[38;5;241;43m100000\u001B[39;49m\u001B[43m)\u001B[49m\n\u001B[0;32m     50\u001B[0m ib\u001B[38;5;241m.\u001B[39mcancelHistoricalData(_bars)\n",
      "File \u001B[1;32mc:\\users\\bjahn\\pycharmprojects\\backtest_notebook\\venv\\lib\\site-packages\\ib_insync\\util.py:386\u001B[0m, in \u001B[0;36msleep\u001B[1;34m(secs)\u001B[0m\n\u001B[0;32m    378\u001B[0m \u001B[38;5;28;01mdef\u001B[39;00m \u001B[38;5;21msleep\u001B[39m(secs: \u001B[38;5;28mfloat\u001B[39m \u001B[38;5;241m=\u001B[39m \u001B[38;5;241m0.02\u001B[39m) \u001B[38;5;241m-\u001B[39m\u001B[38;5;241m>\u001B[39m \u001B[38;5;28mbool\u001B[39m:\n\u001B[0;32m    379\u001B[0m     \u001B[38;5;124;03m\"\"\"\u001B[39;00m\n\u001B[0;32m    380\u001B[0m \u001B[38;5;124;03m    Wait for the given amount of seconds while everything still keeps\u001B[39;00m\n\u001B[0;32m    381\u001B[0m \u001B[38;5;124;03m    processing in the background. Never use time.sleep().\u001B[39;00m\n\u001B[1;32m   (...)\u001B[0m\n\u001B[0;32m    384\u001B[0m \u001B[38;5;124;03m        secs (float): Time in seconds to wait.\u001B[39;00m\n\u001B[0;32m    385\u001B[0m \u001B[38;5;124;03m    \"\"\"\u001B[39;00m\n\u001B[1;32m--> 386\u001B[0m     \u001B[43mrun\u001B[49m\u001B[43m(\u001B[49m\u001B[43masyncio\u001B[49m\u001B[38;5;241;43m.\u001B[39;49m\u001B[43msleep\u001B[49m\u001B[43m(\u001B[49m\u001B[43msecs\u001B[49m\u001B[43m)\u001B[49m\u001B[43m)\u001B[49m\n\u001B[0;32m    387\u001B[0m     \u001B[38;5;28;01mreturn\u001B[39;00m \u001B[38;5;28;01mTrue\u001B[39;00m\n",
      "File \u001B[1;32mc:\\users\\bjahn\\pycharmprojects\\backtest_notebook\\venv\\lib\\site-packages\\ib_insync\\util.py:343\u001B[0m, in \u001B[0;36mrun\u001B[1;34m(timeout, *awaitables)\u001B[0m\n\u001B[0;32m    341\u001B[0m     result \u001B[38;5;241m=\u001B[39m loop\u001B[38;5;241m.\u001B[39mrun_until_complete(task)\n\u001B[0;32m    342\u001B[0m \u001B[38;5;28;01mexcept\u001B[39;00m asyncio\u001B[38;5;241m.\u001B[39mCancelledError \u001B[38;5;28;01mas\u001B[39;00m e:\n\u001B[1;32m--> 343\u001B[0m     \u001B[38;5;28;01mraise\u001B[39;00m globalErrorEvent\u001B[38;5;241m.\u001B[39mvalue() \u001B[38;5;129;01mor\u001B[39;00m e\n\u001B[0;32m    344\u001B[0m \u001B[38;5;28;01mfinally\u001B[39;00m:\n\u001B[0;32m    345\u001B[0m     globalErrorEvent\u001B[38;5;241m.\u001B[39mdisconnect(onError)\n",
      "\u001B[1;31mConnectionError\u001B[0m: Socket disconnect"
     ]
    }
   ],
   "source": [
    "\n",
    "run(\n",
    "    symbol='MES', \n",
    "    sec_type='FUT',\n",
    "    interval='1 min', \n",
    "    duration='5 D',\n",
    "    use_rth=False,\n",
    "    find_retest_swing=False)\n"
   ],
   "metadata": {
    "collapsed": false
   },
   "id": "a8f4b09242d11094"
  }
 ],
 "metadata": {
  "kernelspec": {
   "display_name": "Python 3",
   "language": "python",
   "name": "python3"
  },
  "language_info": {
   "codemirror_mode": {
    "name": "ipython",
    "version": 2
   },
   "file_extension": ".py",
   "mimetype": "text/x-python",
   "name": "python",
   "nbconvert_exporter": "python",
   "pygments_lexer": "ipython2",
   "version": "2.7.6"
  }
 },
 "nbformat": 4,
 "nbformat_minor": 5
}
