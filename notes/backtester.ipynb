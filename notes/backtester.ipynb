{
 "cells": [
  {
   "cell_type": "code",
   "metadata": {
    "collapsed": true
   },
   "source": [
    "import pickle\n",
    "import pandas as pd\n",
    "from matplotlib import pyplot as plt\n",
    "import numpy as np\n",
    "import data_manager.utils as sbtu\n",
    "import data_manager.scanner as scanner\n",
    "import regime as sur\n",
    "# import src.floor_ceiling_regime"
   ],
   "execution_count": 1,
   "outputs": []
  },
  {
   "cell_type": "code",
   "execution_count": 2,
   "outputs": [
    {
     "ename": "ModuleNotFoundError",
     "evalue": "No module named 'src.utils'",
     "output_type": "error",
     "traceback": [
      "\u001B[1;31m---------------------------------------------------------------------------\u001B[0m",
      "\u001B[1;31mModuleNotFoundError\u001B[0m                       Traceback (most recent call last)",
      "Input \u001B[1;32mIn [2]\u001B[0m, in \u001B[0;36m<cell line: 3>\u001B[1;34m()\u001B[0m\n\u001B[0;32m      2\u001B[0m _strategy_path \u001B[38;5;241m=\u001B[39m _data_loader\u001B[38;5;241m.\u001B[39mfile_path(\u001B[38;5;124m'\u001B[39m\u001B[38;5;124mstrategy_lookup.pkl\u001B[39m\u001B[38;5;124m'\u001B[39m)\n\u001B[0;32m      3\u001B[0m \u001B[38;5;28;01mwith\u001B[39;00m \u001B[38;5;28mopen\u001B[39m(_strategy_path, \u001B[38;5;124m'\u001B[39m\u001B[38;5;124mrb\u001B[39m\u001B[38;5;124m'\u001B[39m) \u001B[38;5;28;01mas\u001B[39;00m f:\n\u001B[1;32m----> 4\u001B[0m     _strategy_lookup \u001B[38;5;241m=\u001B[39m \u001B[43mpickle\u001B[49m\u001B[38;5;241;43m.\u001B[39;49m\u001B[43mload\u001B[49m\u001B[43m(\u001B[49m\u001B[43mf\u001B[49m\u001B[43m)\u001B[49m\n\u001B[0;32m      6\u001B[0m _entry_path \u001B[38;5;241m=\u001B[39m _data_loader\u001B[38;5;241m.\u001B[39mfile_path(\u001B[38;5;124m'\u001B[39m\u001B[38;5;124mentry_table_15m.pkl\u001B[39m\u001B[38;5;124m'\u001B[39m)\n\u001B[0;32m      7\u001B[0m \u001B[38;5;28;01mwith\u001B[39;00m \u001B[38;5;28mopen\u001B[39m(_entry_path, \u001B[38;5;124m'\u001B[39m\u001B[38;5;124mrb\u001B[39m\u001B[38;5;124m'\u001B[39m) \u001B[38;5;28;01mas\u001B[39;00m f:\n",
      "File \u001B[1;32mc:\\_projects\\_python_projects\\backtest_notebook\\venv\\lib\\site-packages\\src\\floor_ceiling_regime.py:10\u001B[0m, in \u001B[0;36m<module>\u001B[1;34m\u001B[0m\n\u001B[0;32m      7\u001B[0m \u001B[38;5;28;01mimport\u001B[39;00m \u001B[38;5;21;01mpandas\u001B[39;00m \u001B[38;5;28;01mas\u001B[39;00m \u001B[38;5;21;01mpd\u001B[39;00m\n\u001B[0;32m      8\u001B[0m \u001B[38;5;28;01mfrom\u001B[39;00m \u001B[38;5;21;01mmatplotlib\u001B[39;00m \u001B[38;5;28;01mimport\u001B[39;00m pyplot \u001B[38;5;28;01mas\u001B[39;00m plt\n\u001B[1;32m---> 10\u001B[0m \u001B[38;5;28;01mimport\u001B[39;00m \u001B[38;5;21;01msrc\u001B[39;00m\u001B[38;5;21;01m.\u001B[39;00m\u001B[38;5;21;01mutils\u001B[39;00m\u001B[38;5;21;01m.\u001B[39;00m\u001B[38;5;21;01mpd_accessors\u001B[39;00m \u001B[38;5;28;01mas\u001B[39;00m \u001B[38;5;21;01mpda\u001B[39;00m\n\u001B[0;32m     11\u001B[0m \u001B[38;5;28;01mfrom\u001B[39;00m \u001B[38;5;21;01msrc\u001B[39;00m\u001B[38;5;21;01m.\u001B[39;00m\u001B[38;5;21;01mutils\u001B[39;00m \u001B[38;5;28;01mimport\u001B[39;00m trading_stats \u001B[38;5;28;01mas\u001B[39;00m ts, regime\n\u001B[0;32m     12\u001B[0m \u001B[38;5;28;01mimport\u001B[39;00m \u001B[38;5;21;01msrc\u001B[39;00m\u001B[38;5;21;01m.\u001B[39;00m\u001B[38;5;21;01mutils\u001B[39;00m\u001B[38;5;21;01m.\u001B[39;00m\u001B[38;5;21;01mregime\u001B[39;00m\n",
      "\u001B[1;31mModuleNotFoundError\u001B[0m: No module named 'src.utils'"
     ]
    }
   ],
   "source": [
    "_data_loader = sbtu.DataLoader.init_from_paths(r'..\\data_args\\other.json', r'..\\data_args\\base.json')\n",
    "_strategy_path = _data_loader.file_path('strategy_lookup.pkl')\n",
    "with open(_strategy_path, 'rb') as f:\n",
    "    _strategy_lookup = pickle.load(f)\n",
    "\n",
    "_entry_path = _data_loader.file_path('entry_table_15m.pkl')\n",
    "with open(_entry_path, 'rb') as f:\n",
    "    _entry_table = pickle.load(f)\n",
    "\n",
    "_peak_path = _data_loader.file_path('peak_table_15m.pkl')\n",
    "with open(_peak_path, 'rb') as f:\n",
    "    _peak_table = pickle.load(f)\n",
    "\n",
    "_bench_str = 'SPY'\n",
    "_interval = '15m'\n",
    "_price_data = pd.read_csv(_data_loader.history_path(_bench_str, _interval), index_col=0, header=[0,1]).astype('float64')\n",
    "_bench = pd.read_csv(_data_loader.bench_path(_bench_str, _interval), index_col=0).astype('float64')\n",
    "_relative_rebased = sbtu.PriceGlob(_price_data).relative_rebased(_bench.close)\n",
    "_strategy_overview = pd.read_csv(_data_loader.file_path('stat_overview_15m.csv'))\n",
    "\n",
    "_price_data_by_symbol = sbtu.PriceGlob(_price_data).swap_level()"
   ],
   "metadata": {
    "collapsed": false,
    "pycharm": {
     "name": "#%%\n"
    }
   }
  },
  {
   "cell_type": "code",
   "execution_count": null,
   "outputs": [],
   "source": [
    "symbol = 'EMN'\n",
    "_strat_data = _strategy_lookup[symbol]\n",
    "_stats = _strategy_lookup[symbol].stat_historical\n",
    "_, axs = plt.subplots(2, 2)\n",
    "_stats[['risk_adj_returns_roll', 'perf']].plot(secondary_y=['perf'], ax=axs[0, 0], figsize=[10,10])\n",
    "plot_copy = _stats[['pr_roll', 'tail_roll', 'grit_roll', 'sqn_roll', 'csr_roll']]\n",
    "plot_copy.plot(ax=axs[0, 1])\n",
    "\n",
    "def get_abs_rel(_s):\n",
    "    sd = _price_data_by_symbol.data[_s]\n",
    "    rel = sur.simple_relative(sd, _bench.close).close\n",
    "    return pd.DataFrame(\n",
    "        data={\n",
    "            'abs': sd.close,\n",
    "            'rel': rel\n",
    "        }\n",
    "    )\n",
    "\n",
    "_symbol_data = _price_data_by_symbol.data[symbol]\n",
    "get_abs_rel(symbol).plot(title=symbol, ax=axs[1, 0])\n",
    "_bench.close.plot(ax=axs[1, 1])"
   ],
   "metadata": {
    "collapsed": false,
    "pycharm": {
     "name": "#%%\n"
    }
   }
  },
  {
   "cell_type": "code",
   "execution_count": null,
   "outputs": [],
   "source": [
    "epd = _strategy_lookup[symbol].enhanced_price_data.copy()\n",
    "epd['french_stop'] = _strategy_lookup[symbol].french_stop.stop_price\n",
    "_sl = _strategy_lookup[symbol].stop_loss_series\n",
    "_sl = _sl.loc[~_sl.index.duplicated(keep='first')]\n",
    "epd['stop_loss'] = _sl\n",
    "# epd['base_close'] = _symbol_data.close\n",
    "scanner.enhanced_price_data_plot(epd)\n",
    "_en_cpy = _entry_table.loc[_entry_table.symbol == symbol].copy()\n",
    "_en_cpy.index = _en_cpy.entry\n",
    "_en_cpy.en_px.plot(style='k.')"
   ],
   "metadata": {
    "collapsed": false,
    "pycharm": {
     "name": "#%%\n"
    }
   }
  },
  {
   "cell_type": "code",
   "execution_count": null,
   "outputs": [],
   "source": [
    "\n",
    "_pt = _strategy_lookup[symbol].peak_table.copy()\n",
    "# _pt = pda.PeakTable(_pt)\n",
    "# _pt = _pt.unpivot(_symbol_data.index)\n",
    "# _pt = _pt.loc[~_pt.index.duplicated(keep='first')]\n",
    "def filter_duplicates(_sw):\n",
    "    return _sw.loc[~_sw.index.duplicated(keep='first')]\n",
    "\n",
    "_shi_px = _pt.loc[(_pt.type == -1)].set_index('end')\n",
    "_shi_1 = _shi_px.loc[(_shi_px.lvl == 1)]\n",
    "_shi_1 = filter_duplicates(_shi_1)\n",
    "_shi_2 = _shi_px.loc[(_shi_px.lvl == 2)]\n",
    "_shi_2 = filter_duplicates(_shi_2)\n",
    "_shi_3 = _shi_px.loc[(_shi_px.lvl == 3)]\n",
    "_shi_3 = filter_duplicates(_shi_3)\n",
    "\n",
    "_slo_px = _pt.loc[(_pt.type == 1)].set_index('end')\n",
    "_slo_1 = _slo_px.loc[(_slo_px.lvl == 1)]\n",
    "_slo_1 = filter_duplicates(_slo_1)\n",
    "_slo_2 = _slo_px.loc[(_slo_px.lvl == 2)]\n",
    "_slo_2 = filter_duplicates(_slo_2)\n",
    "_slo_3 = _slo_px.loc[(_slo_px.lvl == 3)]\n",
    "_slo_3 = filter_duplicates(_slo_3)\n",
    "\n",
    "epd['hi1_lag'] = _shi_1.en_px\n",
    "epd['hi2_lag'] = _shi_2.en_px\n",
    "epd['hi3_lag'] = _shi_3.en_px\n",
    "epd['lo1_lag'] = _slo_1.en_px\n",
    "epd['lo2_lag'] = _slo_2.en_px\n",
    "epd['lo3_lag'] = _slo_3.en_px"
   ],
   "metadata": {
    "collapsed": false,
    "pycharm": {
     "name": "#%%\n"
    }
   }
  },
  {
   "cell_type": "code",
   "execution_count": null,
   "outputs": [],
   "source": [
    "\n",
    "\n",
    "_epd_plt = epd[['close', 'hi2', 'lo2', 'hi3', 'lo3', 'rg']]\n",
    "\n",
    "def plot(lvl):\n",
    "    epd[[\n",
    "        'close', 'rg',\n",
    "        f'hi{lvl}', f'lo{lvl}',\n",
    "        f'hi{lvl}_lag', f'lo{lvl}_lag',\n",
    "    ]].plot(style=['b', 'y', 'ro', 'go', 'kv', 'k^'], figsize=[12, 5], secondary_y='rg')\n",
    "\n",
    "plot(3)\n",
    "plot(2)\n",
    "plot(1)"
   ],
   "metadata": {
    "collapsed": false,
    "pycharm": {
     "name": "#%%\n"
    }
   }
  },
  {
   "cell_type": "code",
   "execution_count": null,
   "outputs": [],
   "source": [
    "_, axs = plt.subplots(1, 5)\n",
    "_strategy_overview.weight_total.plot.hist(bins=30, ax=axs[0], figsize=(20, 5))\n",
    "_strategy_overview.perf.plot.hist(bins=20, ax=axs[1])\n",
    "\n",
    "_peak_table['peak_lag'] = _peak_table.end - _peak_table.start\n",
    "partial_exit_lag = _entry_table.partial_exit_date - _entry_table.entry\n",
    "_peak_table.loc[_peak_table.lvl == 1, 'peak_lag'].plot.hist(bins=20, ax=axs[2], title='lvl1 lag')\n",
    "_peak_table.loc[_peak_table.lvl == 2, 'peak_lag'].plot.hist(bins=20, ax=axs[3], title='lvl2 lag')\n",
    "_peak_table.loc[_peak_table.lvl == 3, 'peak_lag'].plot.hist(bins=20, ax=axs[4], title='lvl3 lag')"
   ],
   "metadata": {
    "collapsed": false,
    "pycharm": {
     "name": "#%%\n"
    }
   }
  },
  {
   "cell_type": "markdown",
   "source": [],
   "metadata": {
    "collapsed": false
   }
  },
  {
   "cell_type": "code",
   "execution_count": null,
   "outputs": [],
   "source": [
    "_prev_exits = _entry_table.loc[\n",
    "    (_entry_table.exit_signal_date != _symbol_data.index[-1])\n",
    "].copy()\n",
    "_prev_exits['sig_len'] = (_prev_exits.exit_signal_date - _prev_exits.entry)\n",
    "_prev_exits['partial_sig_len'] = (_prev_exits.partial_exit_date - _prev_exits.entry)"
   ],
   "metadata": {
    "collapsed": false,
    "pycharm": {
     "name": "#%%\n"
    }
   }
  },
  {
   "cell_type": "code",
   "execution_count": null,
   "outputs": [],
   "source": [
    "sw = _peak_table.loc[(_peak_table.lvl == 2)].copy()\n",
    "sw['sw_px_gap'] = (sw.en_px.shift(1) - sw.en_px) * sw.type\n",
    "sw.loc[sw.symbol != sw.symbol.shift(1), 'sw_px_gap'] = np.nan\n",
    "c = sw.sw_px_gap.loc[sw.sw_px_gap < 0].count()\n",
    "win_rate = c / len(sw.loc[sw.sw_px_gap.notna()])\n",
    "avg_win = sw.sw_px_gap.loc[sw.sw_px_gap < 0].sum() / len(sw.loc[sw.sw_px_gap.notna()]) * -1\n",
    "avg_loss = sw.sw_px_gap.loc[sw.sw_px_gap > 0].sum() / len(sw.loc[sw.sw_px_gap.notna()])\n",
    "win_rate * avg_win - (1-win_rate) * avg_loss\n",
    "\n",
    "# lim = 2.5\n",
    "# sw.sw_px_gap.loc[(sw.sw_px_gap < lim) & (sw.sw_px_gap > -lim)].plot.hist(bins=20)"
   ],
   "metadata": {
    "collapsed": false,
    "pycharm": {
     "name": "#%%\n"
    }
   }
  },
  {
   "cell_type": "code",
   "execution_count": null,
   "outputs": [],
   "source": [
    "_entry_table['sig_len'] = (_entry_table.exit_signal_date - _entry_table.entry)\n",
    "_entry_table['sig_len'].plot.hist(bins=20)\n",
    "\n",
    "ax = _entry_table.plot.scatter(x='r_pct', y='my_total')\n",
    "_entries_partial_exit = _entry_table.loc[_entry_table.partial_exit_date.notna()].copy()\n",
    "\n",
    "_entries_partial_exit.plot.scatter(x='r_pct', y='my_total', color='r', ax=ax)\n",
    "\n",
    "len(_entries_partial_exit) / len(_entry_table)\n"
   ],
   "metadata": {
    "collapsed": false,
    "pycharm": {
     "name": "#%%\n"
    }
   }
  },
  {
   "cell_type": "code",
   "execution_count": null,
   "outputs": [],
   "source": [
    "_entry_table.loc[abs(_entry_table.r_pct) > 0.2]"
   ],
   "metadata": {
    "collapsed": false,
    "pycharm": {
     "name": "#%%\n"
    }
   }
  },
  {
   "cell_type": "code",
   "execution_count": null,
   "outputs": [],
   "source": [
    "_entry_table['entry_lag'] = (_entry_table.entry - _entry_table.trail_stop)\n",
    "_entry_table['entry_v'] = _entry_table.r_pct / _entry_table.entry_lag\n",
    "# _entry_table.entry_lag.plot.hist(bins=20)\n",
    "_entry_table['entry_v'] = abs(_entry_table.entry_v)\n",
    "_entry_table.entry_lag.plot.hist(bins=20)"
   ],
   "metadata": {
    "collapsed": false,
    "pycharm": {
     "name": "#%%\n"
    }
   }
  },
  {
   "cell_type": "code",
   "execution_count": null,
   "outputs": [],
   "source": [
    "_entry_table.plot.scatter(x='entry_v', y='sig_len')"
   ],
   "metadata": {
    "collapsed": false,
    "pycharm": {
     "name": "#%%\n"
    }
   }
  },
  {
   "cell_type": "code",
   "execution_count": null,
   "outputs": [],
   "source": [
    "ax = _entry_table.loc[_entry_table.pct_break > 0].plot.scatter(x='pct_break', y='my_total')\n",
    "_entries_partial_exit.loc[_entries_partial_exit.pct_break > 0].plot.scatter(x='pct_break', y='my_total', color='r', ax=ax)"
   ],
   "metadata": {
    "collapsed": false,
    "pycharm": {
     "name": "#%%\n"
    }
   }
  },
  {
   "cell_type": "code",
   "execution_count": null,
   "outputs": [],
   "source": [
    "ax = _entry_table.loc[\n",
    "    (_entry_table.vlty_break > 0) &\n",
    "    (_entry_table.vlty_break < 30)\n",
    "].plot.scatter(x='vlty_break', y='my_total')\n",
    "_entries_partial_exit.loc[\n",
    "    (_entries_partial_exit.vlty_break > 0) &\n",
    "    (_entries_partial_exit.vlty_break < 30)\n",
    "].plot.scatter(x='vlty_break', y='my_total', color='r', ax=ax)\n",
    "\n",
    "_entry_table.loc[\n",
    "    (_entry_table.vlty_break > 0) &\n",
    "    (_entry_table.vlty_break < 15),\n",
    "    'my_total'\n",
    "].sum()"
   ],
   "metadata": {
    "collapsed": false,
    "pycharm": {
     "name": "#%%\n"
    }
   }
  },
  {
   "cell_type": "code",
   "execution_count": null,
   "outputs": [],
   "source": [
    "ax = _entry_table.loc[\n",
    "    (_entry_table.vlty_break > 0) &\n",
    "    (_entry_table.vlty_break < 30)\n",
    "].plot.scatter(x='vlty_break', y='sig_len')\n",
    "_entries_partial_exit.loc[\n",
    "    (_entries_partial_exit.vlty_break > 0) &\n",
    "    (_entries_partial_exit.vlty_break < 30)\n",
    "].plot.scatter(x='vlty_break', y='sig_len', color='r', ax=ax)"
   ],
   "metadata": {
    "collapsed": false,
    "pycharm": {
     "name": "#%%\n"
    }
   }
  }
 ],
 "metadata": {
  "kernelspec": {
   "display_name": "Python 3",
   "language": "python",
   "name": "python3"
  },
  "language_info": {
   "codemirror_mode": {
    "name": "ipython",
    "version": 2
   },
   "file_extension": ".py",
   "mimetype": "text/x-python",
   "name": "python",
   "nbconvert_exporter": "python",
   "pygments_lexer": "ipython2",
   "version": "2.7.6"
  }
 },
 "nbformat": 4,
 "nbformat_minor": 0
}