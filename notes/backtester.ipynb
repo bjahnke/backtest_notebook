{
 "cells": [
  {
   "cell_type": "code",
   "metadata": {
    "collapsed": true
   },
   "source": [
    "import pickle\n",
    "import pandas as pd\n",
    "from matplotlib import pyplot as plt\n",
    "import numpy as np\n",
    "import data_manager.utils as sbtu\n",
    "import data_manager.scanner as scanner\n",
    "import regime as sur\n",
    "import scripts"
   ],
   "execution_count": 1,
   "outputs": []
  },
  {
   "cell_type": "code",
   "execution_count": 2,
   "outputs": [
    {
     "ename": "AttributeError",
     "evalue": "module 'scripts' has no attribute 'load_data_package'",
     "output_type": "error",
     "traceback": [
      "\u001B[1;31m---------------------------------------------------------------------------\u001B[0m",
      "\u001B[1;31mAttributeError\u001B[0m                            Traceback (most recent call last)",
      "Input \u001B[1;32mIn [2]\u001B[0m, in \u001B[0;36m<cell line: 8>\u001B[1;34m()\u001B[0m\n\u001B[0;32m      1\u001B[0m (\n\u001B[0;32m      2\u001B[0m     _price_data,\n\u001B[0;32m      3\u001B[0m     _bench,\n\u001B[0;32m      4\u001B[0m     _strategy_overview,\n\u001B[0;32m      5\u001B[0m     _peak_table,\n\u001B[0;32m      6\u001B[0m     _entry_table,\n\u001B[0;32m      7\u001B[0m     _strategy_lookup\n\u001B[1;32m----> 8\u001B[0m ) \u001B[38;5;241m=\u001B[39m \u001B[43mscripts\u001B[49m\u001B[38;5;241;43m.\u001B[39;49m\u001B[43mload_data_package\u001B[49m()\n\u001B[0;32m      9\u001B[0m \u001B[38;5;66;03m# get\u001B[39;00m\n\u001B[0;32m     10\u001B[0m _relative_rebased \u001B[38;5;241m=\u001B[39m sbtu\u001B[38;5;241m.\u001B[39mPriceGlob(_price_data)\u001B[38;5;241m.\u001B[39mrelative_rebased(_bench\u001B[38;5;241m.\u001B[39mclose)\n",
      "\u001B[1;31mAttributeError\u001B[0m: module 'scripts' has no attribute 'load_data_package'"
     ]
    }
   ],
   "source": [
    "(\n",
    "    _price_data,\n",
    "    _bench,\n",
    "    _strategy_overview,\n",
    "    _peak_table,\n",
    "    _entry_table,\n",
    "    _strategy_lookup\n",
    ") = scripts.load_data_package()\n",
    "# get\n",
    "_relative_rebased = sbtu.PriceGlob(_price_data).relative_rebased(_bench.close)\n",
    "_price_data_by_symbol = sbtu.PriceGlob(_price_data).swap_level()"
   ],
   "metadata": {
    "collapsed": false
   }
  },
  {
   "cell_type": "code",
   "execution_count": null,
   "outputs": [],
   "source": [
    "symbol = 'SPY'\n",
    "\n",
    "\n",
    "_strat_data = _strategy_lookup[symbol]\n",
    "_stats = _strategy_lookup[symbol].stat_historical\n",
    "_, axs = plt.subplots(2, 2)\n",
    "_stats[['risk_adj_returns_roll', 'perf']].plot(secondary_y=['perf'], ax=axs[0, 0], figsize=[10,10])\n",
    "plot_copy = _stats[['pr_roll', 'tail_roll', 'grit_roll', 'sqn_roll', 'csr_roll']]\n",
    "plot_copy.plot(ax=axs[0, 1])\n",
    "\n",
    "def get_abs_rel(_s):\n",
    "    sd = _price_data_by_symbol.data[_s]\n",
    "    rel = sur.simple_relative(sd, _bench.close).close\n",
    "    return pd.DataFrame(\n",
    "        data={\n",
    "            'abs': sd.close,\n",
    "            'rel': rel\n",
    "        }\n",
    "    )\n",
    "\n",
    "_symbol_data = _price_data_by_symbol.data[symbol]\n",
    "get_abs_rel(symbol).plot(title=symbol, ax=axs[1, 0])\n",
    "_bench.close.plot(ax=axs[1, 1])"
   ],
   "metadata": {
    "collapsed": false
   }
  },
  {
   "cell_type": "code",
   "execution_count": null,
   "outputs": [],
   "source": [
    "epd = _strategy_lookup[symbol].enhanced_price_data.copy()\n",
    "epd['french_stop'] = _strategy_lookup[symbol].french_stop.stop_price\n",
    "_sl = _strategy_lookup[symbol].stop_loss_series\n",
    "_sl = _sl.loc[~_sl.index.duplicated(keep='first')]\n",
    "epd['stop_loss'] = _sl\n",
    "# epd['base_close'] = _symbol_data.close\n",
    "scanner.enhanced_price_data_plot(epd)\n",
    "_en_cpy = _entry_table.loc[_entry_table.symbol == symbol].copy()\n",
    "_en_cpy.index = _en_cpy.entry\n",
    "_en_cpy.en_px.plot(style='k.')"
   ],
   "metadata": {
    "collapsed": false
   }
  },
  {
   "cell_type": "code",
   "execution_count": null,
   "outputs": [],
   "source": [
    "\n",
    "_pt = _strategy_lookup[symbol].peak_table.copy()\n",
    "# _pt = pda.PeakTable(_pt)\n",
    "# _pt = _pt.unpivot(_symbol_data.index)\n",
    "# _pt = _pt.loc[~_pt.index.duplicated(keep='first')]\n",
    "def filter_duplicates(_sw):\n",
    "    return _sw.loc[~_sw.index.duplicated(keep='first')]\n",
    "\n",
    "_shi_px = _pt.loc[(_pt.type == -1)].set_index('end')\n",
    "_slo_px = _pt.loc[(_pt.type == 1)].set_index('end')\n",
    "_shis = []\n",
    "_slos = []\n",
    "for i in range(1, 5):\n",
    "    _shis.append(\n",
    "        _shi_px.loc[(_shi_px.lvl == i)]\n",
    "    )\n",
    "    _shis[i-1] = filter_duplicates(_shis[i-1])\n",
    "    _slos.append(\n",
    "        _slo_px.loc[(_slo_px.lvl == i)]\n",
    "    )\n",
    "    _slos[i-1] = filter_duplicates(_slos[i-1])\n",
    "    epd[f'hi{i}_lag'] = _shis[i-1].en_px\n",
    "    epd[f'lo{i}_lag'] = _slos[i-1].en_px\n"
   ],
   "metadata": {
    "collapsed": false
   }
  },
  {
   "cell_type": "code",
   "execution_count": null,
   "outputs": [],
   "source": [
    "\n",
    "\n",
    "_epd_plt = epd[['close', 'hi2', 'lo2', 'hi3', 'lo3', 'rg']]\n",
    "\n",
    "def plot(lvl):\n",
    "    epd[[\n",
    "        'close', 'rg',\n",
    "        f'hi{lvl}', f'lo{lvl}',\n",
    "        f'hi{lvl}_lag', f'lo{lvl}_lag',\n",
    "    ]].plot(style=['b', 'y', 'ro', 'go', 'kv', 'k^'], figsize=[12, 5], secondary_y='rg')\n",
    "\n",
    "plot(4)\n",
    "plot(3)\n",
    "plot(2)\n",
    "plot(1)"
   ],
   "metadata": {
    "collapsed": false
   }
  },
  {
   "cell_type": "code",
   "execution_count": null,
   "outputs": [],
   "source": [
    "_, axs = plt.subplots(1, 5)\n",
    "_strategy_overview.weight_total.plot.hist(bins=30, ax=axs[0], figsize=(20, 5))\n",
    "_strategy_overview.perf.plot.hist(bins=20, ax=axs[1])\n",
    "\n",
    "_peak_table['peak_lag'] = _peak_table.end - _peak_table.start\n",
    "partial_exit_lag = _entry_table.partial_exit_date - _entry_table.entry\n",
    "_entry_table['partial_exit_lag'] = partial_exit_lag\n",
    "\n",
    "_peak_table.loc[_peak_table.lvl == 1, 'peak_lag'].plot.hist(bins=20, ax=axs[2], title='lvl1 lag')\n",
    "_peak_table.loc[_peak_table.lvl == 2, 'peak_lag'].plot.hist(bins=20, ax=axs[3], title='lvl2 lag')\n",
    "_peak_table.loc[_peak_table.lvl == 3, 'peak_lag'].plot.hist(bins=20, ax=axs[4], title='lvl3 lag')"
   ],
   "metadata": {
    "collapsed": false
   }
  },
  {
   "cell_type": "markdown",
   "source": [],
   "metadata": {
    "collapsed": false
   }
  },
  {
   "cell_type": "code",
   "execution_count": null,
   "outputs": [],
   "source": [
    "partial_exit_lag.plot.hist(bins=20)\n",
    "_entry_table"
   ],
   "metadata": {
    "collapsed": false
   }
  }
 ],
 "metadata": {
  "kernelspec": {
   "display_name": "Python 3",
   "language": "python",
   "name": "python3"
  },
  "language_info": {
   "codemirror_mode": {
    "name": "ipython",
    "version": 2
   },
   "file_extension": ".py",
   "mimetype": "text/x-python",
   "name": "python",
   "nbconvert_exporter": "python",
   "pygments_lexer": "ipython2",
   "version": "2.7.6"
  }
 },
 "nbformat": 4,
 "nbformat_minor": 0
}
