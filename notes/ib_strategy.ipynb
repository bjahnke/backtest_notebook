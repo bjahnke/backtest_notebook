{
 "cells": [
  {
   "cell_type": "code",
   "execution_count": 1,
   "metadata": {},
   "outputs": [
    {
     "data": {
      "text/plain": [
       "<IB connected to 127.0.0.1:4001 clientId=0>"
      ]
     },
     "execution_count": 1,
     "metadata": {},
     "output_type": "execute_result"
    }
   ],
   "source": [
    "from notes.strategy import XOverStrat, Benchmark\n",
    "from ib_insync import *\n",
    "import scripts.trend_viewer\n",
    "util.startLoop()\n",
    "\n",
    "ib = IB()\n",
    "# port = 7496\n",
    "port = 4001\n",
    "ib.connect('127.0.0.1', port, clientId=0)"
   ]
  },
  {
   "cell_type": "code",
   "execution_count": 2,
   "metadata": {},
   "outputs": [],
   "source": [
    "def ib_get_historical(symbol, sec_type, duration, interval, use_rth=True): \n",
    "    contracts = ib.reqContractDetails(Contract(symbol=symbol, secType=sec_type, includeExpired=False))[0]\n",
    "    contract = contracts.contract\n",
    "    bars = ib.reqHistoricalData(\n",
    "        contract,\n",
    "        endDateTime='',\n",
    "        durationStr=duration,\n",
    "        barSizeSetting=interval,\n",
    "        whatToShow='TRADES' if symbol not in ['BTC', 'ETH'] else 'AGGTRADES',\n",
    "        useRTH=use_rth,\n",
    "        formatDate=1,\n",
    "        keepUpToDate=False\n",
    "    )\n",
    "    prices = util.df(bars)\n",
    "    prices.index = prices.date \n",
    "    prices = prices.drop(columns=['date'])\n",
    "    return prices\n"
   ]
  },
  {
   "cell_type": "code",
   "execution_count": 3,
   "metadata": {},
   "outputs": [],
   "source": [
    "price = ib_get_historical('BTC', 'CRYPTO', '5 Y', '1 day')"
   ]
  },
  {
   "cell_type": "code",
   "execution_count": 4,
   "metadata": {},
   "outputs": [],
   "source": [
    "bench = Benchmark()\n",
    "bench.update(price['close'])"
   ]
  },
  {
   "cell_type": "code",
   "execution_count": 5,
   "metadata": {},
   "outputs": [
    {
     "data": {
      "text/plain": [
       "date\n",
       "2019-04-08         NaN\n",
       "2019-04-09    0.001200\n",
       "2019-04-10    0.012702\n",
       "2019-04-11   -0.004153\n",
       "2019-04-12   -0.006103\n",
       "                ...   \n",
       "2024-04-01    0.001704\n",
       "2024-04-02    0.001672\n",
       "2024-04-03    0.001658\n",
       "2024-04-04    0.001683\n",
       "2024-04-05    0.001667\n",
       "Name: close, Length: 1305, dtype: float64"
      ]
     },
     "execution_count": 5,
     "metadata": {},
     "output_type": "execute_result"
    }
   ],
   "source": [
    "bench.stats.expectancy()"
   ]
  },
  {
   "cell_type": "code",
   "execution_count": null,
   "metadata": {},
   "outputs": [],
   "source": []
  }
 ],
 "metadata": {
  "kernelspec": {
   "display_name": "venv",
   "language": "python",
   "name": "python3"
  },
  "language_info": {
   "codemirror_mode": {
    "name": "ipython",
    "version": 3
   },
   "file_extension": ".py",
   "mimetype": "text/x-python",
   "name": "python",
   "nbconvert_exporter": "python",
   "pygments_lexer": "ipython3",
   "version": "3.10.12"
  }
 },
 "nbformat": 4,
 "nbformat_minor": 2
}
