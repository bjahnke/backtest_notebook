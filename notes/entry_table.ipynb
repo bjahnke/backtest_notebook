{
 "cells": [
  {
   "cell_type": "code",
   "execution_count": 1,
   "id": "initial_id",
   "metadata": {
    "collapsed": true,
    "ExecuteTime": {
     "end_time": "2024-01-22T14:49:32.955556100Z",
     "start_time": "2024-01-22T14:49:30.049044700Z"
    }
   },
   "outputs": [],
   "source": [
    "import os\n",
    "import dotenv\n",
    "dotenv.load_dotenv()\n",
    "import scripts.update_db as udb\n",
    "from sqlalchemy import create_engine\n",
    "from sqlalchemy.orm import Session\n",
    "neon_db_url = os.environ.get(\"NEON_DB_CONSTR\")\n",
    "import pandas as pd\n",
    "import scripts.update_db as udp"
   ]
  },
  {
   "cell_type": "code",
   "execution_count": 1,
   "outputs": [],
   "source": [],
   "metadata": {
    "collapsed": false,
    "ExecuteTime": {
     "end_time": "2024-01-22T14:49:32.972475600Z",
     "start_time": "2024-01-22T14:49:32.956556800Z"
    }
   },
   "id": "2384bff39f8dc178"
  },
  {
   "cell_type": "markdown",
   "source": [],
   "metadata": {
    "collapsed": false
   },
   "id": "27b385e6b17af16d"
  },
  {
   "cell_type": "code",
   "execution_count": 2,
   "outputs": [],
   "source": [
    "engine = create_engine(neon_db_url)"
   ],
   "metadata": {
    "collapsed": false,
    "ExecuteTime": {
     "end_time": "2024-01-22T14:49:33.000307600Z",
     "start_time": "2024-01-22T14:49:32.972475600Z"
    }
   },
   "id": "55dd53631ef48082"
  },
  {
   "cell_type": "code",
   "execution_count": 3,
   "outputs": [],
   "source": [
    "entries = pd.read_sql_table('entry', engine)"
   ],
   "metadata": {
    "collapsed": false,
    "ExecuteTime": {
     "end_time": "2024-01-22T14:49:39.168942500Z",
     "start_time": "2024-01-22T14:49:32.988307Z"
    }
   },
   "id": "159d495cb97eb94"
  },
  {
   "cell_type": "code",
   "execution_count": 4,
   "outputs": [],
   "source": [
    "_positions = pd.read_excel('..\\positions.xlsx', index_col=0)\n",
    "_positions = _positions.loc[_positions.active == True]\n"
   ],
   "metadata": {
    "collapsed": false,
    "ExecuteTime": {
     "end_time": "2024-01-22T14:49:39.552641200Z",
     "start_time": "2024-01-22T14:49:39.170944Z"
    }
   },
   "id": "509f880afb2bf3e9"
  },
  {
   "cell_type": "code",
   "execution_count": 5,
   "outputs": [],
   "source": [
    "\n",
    "def updated_positions(positions):\n",
    "    with Session(engine) as session:\n",
    "        records = [udp.PositionManager.from_row(session, row).as_dict() for i, row in positions.iterrows()]\n",
    "    \n",
    "    table = pd.DataFrame.from_records(records).reset_index().rename(columns={'index': 'id'})\n",
    "    return table\n",
    "\n",
    "def get_stops_triggered(positions):\n",
    "    trail_triggered = ((positions.price - positions.trail) * positions.direction) < 0\n",
    "    stop_triggered = ((positions.price - positions.stop) * positions.direction) < 0\n",
    "    regime_triggered = positions.regime != positions.direction\n",
    "    \n",
    "    positions['stop_triggered'] = stop_triggered\n",
    "    positions['trail_triggered'] = trail_triggered\n",
    "    positions['regime_triggered'] = regime_triggered\n",
    "    return positions.loc[trail_triggered | stop_triggered | regime_triggered].copy()\n",
    "\n",
    "\n",
    "def get_target_triggered(positions):\n",
    "    target_triggered = ((positions.price - positions.target) * positions.direction) >= 0\n",
    "    return positions.loc[target_triggered].copy()\n",
    "\n",
    "\n",
    "def plot_current_position_data(positions):\n",
    "    for i, row in positions.iterrows():\n",
    "        _price = pd.read_sql(f'select * from stock_data where stock_data.stock_id = {row.stock_id}', engine)\n",
    "        _price['cost'] = row.cost\n",
    "        _price['stop'] = row.stop \n",
    "        _price['target'] = row.target \n",
    "        _price['trail'] = row.trail \n",
    "        _price['m_close'] = _price['close']\n",
    "        _price[['m_close', 'target', 'trail', 'cost', 'stop']].iloc[-100:].plot(\n",
    "            color=['black', 'green', 'orange', 'blue', 'red'],\n",
    "            title=row.symbol\n",
    "        )\n",
    "            "
   ],
   "metadata": {
    "collapsed": false,
    "ExecuteTime": {
     "end_time": "2024-01-22T14:49:39.569897800Z",
     "start_time": "2024-01-22T14:49:39.556898900Z"
    }
   },
   "id": "f4a505184c98ccb0"
  },
  {
   "cell_type": "code",
   "execution_count": 5,
   "outputs": [],
   "source": [],
   "metadata": {
    "collapsed": false,
    "ExecuteTime": {
     "end_time": "2024-01-22T14:49:39.596187300Z",
     "start_time": "2024-01-22T14:49:39.567899800Z"
    }
   },
   "id": "b6ad034ec88e3947"
  },
  {
   "cell_type": "code",
   "execution_count": 6,
   "outputs": [],
   "source": [
    "current_position_data = updated_positions(_positions)"
   ],
   "metadata": {
    "collapsed": false,
    "ExecuteTime": {
     "end_time": "2024-01-22T14:49:41.345374200Z",
     "start_time": "2024-01-22T14:49:39.584559600Z"
    }
   },
   "id": "939a0d3532469a65"
  },
  {
   "cell_type": "code",
   "execution_count": 7,
   "outputs": [
    {
     "data": {
      "text/plain": "   id entry_date symbol  is_relative       cost       stop      trail  \\\n1   1 2023-12-20    XLF         True  78.929625  77.423181  79.920978   \n\n       price  trail_amount     target  quantity  direction  risk  multiple  \\\n1  78.572757      0.792012  79.682847       300          1  1000         1   \n\n   fraction  stock_id  regime  stop_triggered  trail_triggered  \\\n1  0.666667        25     1.0           False             True   \n\n   regime_triggered  \n1             False  ",
      "text/html": "<div>\n<style scoped>\n    .dataframe tbody tr th:only-of-type {\n        vertical-align: middle;\n    }\n\n    .dataframe tbody tr th {\n        vertical-align: top;\n    }\n\n    .dataframe thead th {\n        text-align: right;\n    }\n</style>\n<table border=\"1\" class=\"dataframe\">\n  <thead>\n    <tr style=\"text-align: right;\">\n      <th></th>\n      <th>id</th>\n      <th>entry_date</th>\n      <th>symbol</th>\n      <th>is_relative</th>\n      <th>cost</th>\n      <th>stop</th>\n      <th>trail</th>\n      <th>price</th>\n      <th>trail_amount</th>\n      <th>target</th>\n      <th>quantity</th>\n      <th>direction</th>\n      <th>risk</th>\n      <th>multiple</th>\n      <th>fraction</th>\n      <th>stock_id</th>\n      <th>regime</th>\n      <th>stop_triggered</th>\n      <th>trail_triggered</th>\n      <th>regime_triggered</th>\n    </tr>\n  </thead>\n  <tbody>\n    <tr>\n      <th>1</th>\n      <td>1</td>\n      <td>2023-12-20</td>\n      <td>XLF</td>\n      <td>True</td>\n      <td>78.929625</td>\n      <td>77.423181</td>\n      <td>79.920978</td>\n      <td>78.572757</td>\n      <td>0.792012</td>\n      <td>79.682847</td>\n      <td>300</td>\n      <td>1</td>\n      <td>1000</td>\n      <td>1</td>\n      <td>0.666667</td>\n      <td>25</td>\n      <td>1.0</td>\n      <td>False</td>\n      <td>True</td>\n      <td>False</td>\n    </tr>\n  </tbody>\n</table>\n</div>"
     },
     "execution_count": 7,
     "metadata": {},
     "output_type": "execute_result"
    }
   ],
   "source": [
    "stops_triggered = get_stops_triggered(current_position_data)\n",
    "stops_triggered"
   ],
   "metadata": {
    "collapsed": false,
    "ExecuteTime": {
     "end_time": "2024-01-22T14:49:41.394673Z",
     "start_time": "2024-01-22T14:49:41.352861100Z"
    }
   },
   "id": "17a384134e90d89c"
  },
  {
   "cell_type": "code",
   "execution_count": 8,
   "outputs": [
    {
     "data": {
      "text/plain": "   id entry_date symbol  is_relative    cost     stop      trail      price  \\\n0   0 2023-12-01    XLE         True  184.39  215.196  172.06477  165.53377   \n\n   trail_amount   target  quantity  direction  risk  multiple  fraction  \\\n0         6.531  168.984      -100         -1  1000         1  0.666667   \n\n   stock_id  regime  stop_triggered  trail_triggered  regime_triggered  \n0        24    -1.0           False            False             False  ",
      "text/html": "<div>\n<style scoped>\n    .dataframe tbody tr th:only-of-type {\n        vertical-align: middle;\n    }\n\n    .dataframe tbody tr th {\n        vertical-align: top;\n    }\n\n    .dataframe thead th {\n        text-align: right;\n    }\n</style>\n<table border=\"1\" class=\"dataframe\">\n  <thead>\n    <tr style=\"text-align: right;\">\n      <th></th>\n      <th>id</th>\n      <th>entry_date</th>\n      <th>symbol</th>\n      <th>is_relative</th>\n      <th>cost</th>\n      <th>stop</th>\n      <th>trail</th>\n      <th>price</th>\n      <th>trail_amount</th>\n      <th>target</th>\n      <th>quantity</th>\n      <th>direction</th>\n      <th>risk</th>\n      <th>multiple</th>\n      <th>fraction</th>\n      <th>stock_id</th>\n      <th>regime</th>\n      <th>stop_triggered</th>\n      <th>trail_triggered</th>\n      <th>regime_triggered</th>\n    </tr>\n  </thead>\n  <tbody>\n    <tr>\n      <th>0</th>\n      <td>0</td>\n      <td>2023-12-01</td>\n      <td>XLE</td>\n      <td>True</td>\n      <td>184.39</td>\n      <td>215.196</td>\n      <td>172.06477</td>\n      <td>165.53377</td>\n      <td>6.531</td>\n      <td>168.984</td>\n      <td>-100</td>\n      <td>-1</td>\n      <td>1000</td>\n      <td>1</td>\n      <td>0.666667</td>\n      <td>24</td>\n      <td>-1.0</td>\n      <td>False</td>\n      <td>False</td>\n      <td>False</td>\n    </tr>\n  </tbody>\n</table>\n</div>"
     },
     "execution_count": 8,
     "metadata": {},
     "output_type": "execute_result"
    }
   ],
   "source": [
    "_target_triggered = get_target_triggered(current_position_data)\n",
    "_target_triggered"
   ],
   "metadata": {
    "collapsed": false,
    "ExecuteTime": {
     "end_time": "2024-01-22T14:49:41.433180400Z",
     "start_time": "2024-01-22T14:49:41.378371100Z"
    }
   },
   "id": "cc5f75a14eb53f18"
  },
  {
   "cell_type": "code",
   "execution_count": 9,
   "outputs": [
    {
     "data": {
      "text/plain": "<Figure size 432x288 with 1 Axes>",
      "image/png": "[encoded data removed]"
     },
     "metadata": {
      "needs_background": "light"
     },
     "output_type": "display_data"
    },
    {
     "data": {
      "text/plain": "<Figure size 432x288 with 1 Axes>",
      "image/png": "[encoded data removed]"
     },
     "metadata": {
      "needs_background": "light"
     },
     "output_type": "display_data"
    }
   ],
   "source": [
    "plot_current_position_data(current_position_data)"
   ],
   "metadata": {
    "collapsed": false,
    "ExecuteTime": {
     "end_time": "2024-01-22T14:49:42.051799300Z",
     "start_time": "2024-01-22T14:49:41.392671Z"
    }
   },
   "id": "98e5765c60e1f07d"
  },
  {
   "cell_type": "code",
   "execution_count": 10,
   "outputs": [],
   "source": [
    "relative_entries = entries.loc[\n",
    "    (entries.is_relative == True)\n",
    "    & (entries.signal_age > 0)\n",
    "]\n",
    "absolute_entries = entries.loc[\n",
    "    (entries.is_relative == False)\n",
    "    & (entries.signal_age > 0)\n",
    "]"
   ],
   "metadata": {
    "collapsed": false,
    "ExecuteTime": {
     "end_time": "2024-01-22T14:49:42.082634700Z",
     "start_time": "2024-01-22T14:49:42.053545100Z"
    }
   },
   "id": "49afcdfe170aff11"
  },
  {
   "cell_type": "code",
   "execution_count": 11,
   "outputs": [
    {
     "data": {
      "text/plain": "   entry_date symbol       cost      stop      trail  trail_amount    target  \\\n20 2024-01-22    XLF  78.572757  78.46305  78.723359      0.062991  78.62761   \n\n       quantity  direction  risk  multiple  fraction  is_relative  stock_id  \\\n20  4557.599477          1   500         1  0.666667         True        25   \n\n    signal_age     r_pct  \n20          18  0.001396  ",
      "text/html": "<div>\n<style scoped>\n    .dataframe tbody tr th:only-of-type {\n        vertical-align: middle;\n    }\n\n    .dataframe tbody tr th {\n        vertical-align: top;\n    }\n\n    .dataframe thead th {\n        text-align: right;\n    }\n</style>\n<table border=\"1\" class=\"dataframe\">\n  <thead>\n    <tr style=\"text-align: right;\">\n      <th></th>\n      <th>entry_date</th>\n      <th>symbol</th>\n      <th>cost</th>\n      <th>stop</th>\n      <th>trail</th>\n      <th>trail_amount</th>\n      <th>target</th>\n      <th>quantity</th>\n      <th>direction</th>\n      <th>risk</th>\n      <th>multiple</th>\n      <th>fraction</th>\n      <th>is_relative</th>\n      <th>stock_id</th>\n      <th>signal_age</th>\n      <th>r_pct</th>\n    </tr>\n  </thead>\n  <tbody>\n    <tr>\n      <th>20</th>\n      <td>2024-01-22</td>\n      <td>XLF</td>\n      <td>78.572757</td>\n      <td>78.46305</td>\n      <td>78.723359</td>\n      <td>0.062991</td>\n      <td>78.62761</td>\n      <td>4557.599477</td>\n      <td>1</td>\n      <td>500</td>\n      <td>1</td>\n      <td>0.666667</td>\n      <td>True</td>\n      <td>25</td>\n      <td>18</td>\n      <td>0.001396</td>\n    </tr>\n  </tbody>\n</table>\n</div>"
     },
     "execution_count": 11,
     "metadata": {},
     "output_type": "execute_result"
    }
   ],
   "source": [
    "relative_entries.loc[relative_entries.symbol == 'XLF']"
   ],
   "metadata": {
    "collapsed": false,
    "ExecuteTime": {
     "end_time": "2024-01-22T14:49:42.085395900Z",
     "start_time": "2024-01-22T14:49:42.067794600Z"
    }
   },
   "id": "38a366fb5aa67a24"
  }
 ],
 "metadata": {
  "kernelspec": {
   "display_name": "Python 3",
   "language": "python",
   "name": "python3"
  },
  "language_info": {
   "codemirror_mode": {
    "name": "ipython",
    "version": 2
   },
   "file_extension": ".py",
   "mimetype": "text/x-python",
   "name": "python",
   "nbconvert_exporter": "python",
   "pygments_lexer": "ipython2",
   "version": "2.7.6"
  }
 },
 "nbformat": 4,
 "nbformat_minor": 5
}
