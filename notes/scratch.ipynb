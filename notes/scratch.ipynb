{
 "cells": [
  {
   "cell_type": "code",
   "execution_count": null,
   "metadata": {
    "collapsed": true
   },
   "outputs": [],
   "source": [
    "import pandas as pd"
   ]
  },
  {
   "cell_type": "code",
   "execution_count": null,
   "outputs": [],
   "source": [
    "class DictMixin:\n",
    "    def to_dict(self):\n",
    "        \"\"\"Returns a dictionary representation of the object. Exclude keys starting with _\"\"\"\n",
    "        return {k: v for k, v in self.__dict__.items() if not k.startswith('_')}\n",
    "\n",
    "\n",
    "class JSONMixin:\n",
    "    def to_json(self):\n",
    "        \"\"\"Returns a JSON representation of the object. Exclude keys starting with _\"\"\"\n",
    "        return json.dumps(self.to_dict())\n",
    "\n",
    "    @classmethod\n",
    "    def from_json(cls, json_str):\n",
    "        \"\"\"Returns an object from a JSON string\"\"\"\n",
    "        return cls(**json.loads(json_str))\n"
   ],
   "metadata": {
    "collapsed": false
   }
  }
 ],
 "metadata": {
  "kernelspec": {
   "display_name": "Python 3",
   "language": "python",
   "name": "python3"
  },
  "language_info": {
   "codemirror_mode": {
    "name": "ipython",
    "version": 2
   },
   "file_extension": ".py",
   "mimetype": "text/x-python",
   "name": "python",
   "nbconvert_exporter": "python",
   "pygments_lexer": "ipython2",
   "version": "2.7.6"
  }
 },
 "nbformat": 4,
 "nbformat_minor": 0
}
