{
 "cells": [
  {
   "cell_type": "code",
   "execution_count": 6,
   "metadata": {
    "collapsed": true
   },
   "outputs": [
    {
     "name": "stdout",
     "output_type": "stream",
     "text": [
      "[1, 2]\n"
     ]
    },
    {
     "data": {
      "text/plain": "[[1, 1, 2], [1, 2, 1], [2, 1, 1]]"
     },
     "execution_count": 6,
     "metadata": {},
     "output_type": "execute_result"
    }
   ],
   "source": [
    "import scripts\n",
    "import data_manager.utils as sbtu"
   ]
  },
  {
   "cell_type": "code",
   "execution_count": 7,
   "outputs": [
    {
     "data": {
      "text/plain": "Counter({3: 1, 1: 1, 2: 1})"
     },
     "execution_count": 7,
     "metadata": {},
     "output_type": "execute_result"
    }
   ],
   "source": [
    "(\n",
    "    _price_data,\n",
    "    _bench,\n",
    "    _strategy_overview,\n",
    "    _peak_table,\n",
    "    _entry_table,\n",
    "    _strategy_lookup\n",
    ") = scripts.load_data_package()\n",
    "_relative_rebased = sbtu.PriceGlob(_price_data).relative_rebased(_bench.close)\n",
    "_price_data_by_symbol = sbtu.PriceGlob(_price_data).swap_level()"
   ],
   "metadata": {
    "collapsed": false,
    "pycharm": {
     "name": "#%%\n"
    }
   }
  },
  {
   "cell_type": "code",
   "execution_count": null,
   "outputs": [],
   "source": [
    "from dataclasses import dataclass\n",
    "\n",
    "\"\"\"\n",
    "Position: combination of system calculation and actual fill data\n",
    "symbol | size | entry_price | stop_price |\n",
    "sys    | sys  | broker      | sys        |\n",
    "\"\"\"\n",
    "\n",
    "# @dataclass\n",
    "# class Position:\n",
    "#     symbol: str\n",
    "#     size: float\n",
    "#     entry_price:\n",
    "#     def __init__(self, symbol, size):\n",
    "#         self.symbol = symbol\n",
    "#         self.size = size\n",
    "\n",
    "\n",
    "\n",
    "\n"
   ],
   "metadata": {
    "collapsed": false,
    "pycharm": {
     "name": "#%%\n"
    }
   }
  },
  {
   "cell_type": "code",
   "execution_count": 2,
   "outputs": [
    {
     "data": {
      "text/plain": "\"\\nTBD need to know if position risk has been reduced, otherwise don't generate orders for symbol\\n\\nOption 2:\\n    - Store initial_size and current_size of position\\n    - if current_size is some criteria below the initial size, then risk is reduced\\n    - filter out stocks where criteria is not met\\n\\nPosition Table Generation:\\n1. Each row in the position table shall obtain the following info:\\n    - Symbol name\\n    - position size\\n    - direction?\\n\\nOrder Table Generation:\\n1.) Order Table generation shall follow this procedure:\\n    1. Retrieve data for current open positions\\n    2. For each open position:\\n        1. if at least one of the following is true:\\n            TRAIL_STOP || STOP || TARGET_EXIT || FRENCH_STOP || REGIME_END\\n            1. Generate an order entry, where type is the first discovered reason for entry creation\\n    3. For each symbol, create order entry if:\\n        symbol not in order_table && risk_reduced is True\\n    4.\\n\\n\\nOrder Table Output:\\n1.) The following data shall be stored in the order_table, sorted by close type first. It may be a view of a larger table:\\n    Symbol,\\n    direction of trade,\\n    position size (dollars or shares),\\n    type: [\\n        ENTRY,\\n        TRAIL_STOP,\\n        STOP,\\n        TARGET_EXIT,\\n        FRENCH_STOP,\\n        REGIME_END\\n    ]\\n\\n\\n2.) Output of the order table shall be sorted by type, with the following priority:\\n    1. STOP\\n    2. TRAIL_STOP\\n    3. TARGET_EXIT\\n    4. FRENCH_STOP\\n    5. REGIME_END\\n    6. ENTRY\\n\\n\\n\\n2.)\\nEntries/Exits in the order table shall be generated from\\n\""
     },
     "execution_count": 2,
     "metadata": {},
     "output_type": "execute_result"
    }
   ],
   "source": [
    "\"\"\"\n",
    "TBD need to know if position risk has been reduced, otherwise don't generate orders for symbol\n",
    "\n",
    "Option 2:\n",
    "    - Store initial_size and current_size of position\n",
    "    - if current_size is some criteria below the initial size, then risk is reduced\n",
    "    - filter out stocks where criteria is not met\n",
    "\n",
    "Position Table Generation:\n",
    "1. Each row in the position table shall obtain the following info:\n",
    "    - Symbol name\n",
    "    - initial size\n",
    "    - entry date?\n",
    "    - direction?\n",
    "    -\n",
    "\n",
    "Order Table Generation:\n",
    "1.) Order Table generation shall follow this procedure:\n",
    "    1. Retrieve data for current open positions\n",
    "    2. For each open position:\n",
    "        1. if at least one of the following is true:\n",
    "            TRAIL_STOP || STOP || TARGET_EXIT || FRENCH_STOP || REGIME_END\n",
    "            1. Generate an order entry, where type is the first discovered reason for entry creation\n",
    "    3. For each symbol, create order entry if:\n",
    "        symbol not in order_table && risk_reduced is True\n",
    "    4.\n",
    "\n",
    "\n",
    "Order Table Output:\n",
    "1.) The following data shall be stored in the order_table, sorted by close type first. It may be a view of a larger table:\n",
    "    Symbol,\n",
    "    direction of trade,\n",
    "    position size (dollars or shares),\n",
    "    type: [\n",
    "        ENTRY,\n",
    "        TRAIL_STOP,\n",
    "        STOP,\n",
    "        TARGET_EXIT,\n",
    "        FRENCH_STOP,\n",
    "        REGIME_END\n",
    "    ]\n",
    "\n",
    "\n",
    "2.) Output of the order table shall be sorted by type, with the following priority:\n",
    "    1. STOP\n",
    "    2. TRAIL_STOP\n",
    "    3. TARGET_EXIT\n",
    "    4. FRENCH_STOP\n",
    "    5. REGIME_END\n",
    "    6. ENTRY\n",
    "\n",
    "\n",
    "\n",
    "2.)\n",
    "Entries/Exits in the order table shall be generated from\n",
    "\"\"\"\n"
   ],
   "metadata": {
    "collapsed": false,
    "pycharm": {
     "name": "#%%\n"
    }
   }
  },
  {
   "cell_type": "code",
   "execution_count": 19,
   "outputs": [
    {
     "data": {
      "text/plain": "''"
     },
     "execution_count": 19,
     "metadata": {},
     "output_type": "execute_result"
    }
   ],
   "source": [
    "\n",
    "for symbol, glob in _price_data_by_symbol.items():\n",
    "    symbol_data = _strategy_lookup[symbol]\n",
    "    rg_id = symbol_data.regime_table.rg.iat[-1]\n",
    "    rg_swings = symbol_data.peak_table.loc[\n",
    "        (symbol_data.peak_table.type == rg_id)\n",
    "    ]\n",
    "    latest_swing = rg_swings.iloc[-1]\n"
   ],
   "metadata": {
    "collapsed": false,
    "pycharm": {
     "name": "#%%\n"
    }
   }
  },
  {
   "cell_type": "code",
   "execution_count": 37,
   "outputs": [
    {
     "data": {
      "text/plain": "[1, 2, 3, 4, 8, 9, 12, 14]"
     },
     "execution_count": 37,
     "metadata": {},
     "output_type": "execute_result"
    }
   ],
   "source": [
    "def insert_elem(arr, pos, elem):\n",
    "    \"\"\"\n",
    "    shift values from pos... to the left\n",
    "    insert elem at pos,\n",
    "    \"\"\"\n",
    "    # shift values first\n",
    "    tmp = arr[pos]\n",
    "    for i in range(pos, len(arr)):\n",
    "        num = tmp\n",
    "        if num is None:\n",
    "            break\n",
    "        tmp = arr[i+1]\n",
    "        arr[i+1] = num\n",
    "    arr[pos] = elem\n",
    "\n",
    "\n",
    "def merge_arrays(arr1, arr2):\n",
    "    for num in arr2:\n",
    "        start = 0 # temporary\n",
    "        end = len(arr1) - 1\n",
    "\n",
    "        # mid should be the insert position\n",
    "        # if final compare is num < arr1[mid]\n",
    "        #   insert = mid\n",
    "        # else if final compare is >= arr1[mid]\n",
    "        #   insert = mid + 1\n",
    "        insert_pos = -1\n",
    "        while start <= end:\n",
    "            mid = (start + end) // 2\n",
    "            if arr1[mid] is None or num < arr1[mid]:\n",
    "                end = mid - 1\n",
    "                insert_pos = mid\n",
    "            elif num >= arr1[mid]:\n",
    "                start = mid + 1\n",
    "                insert_pos = mid + 1\n",
    "\n",
    "        insert_elem(arr1, insert_pos, num)\n",
    "    return arr1\n",
    "\n",
    "merge_arrays([1,4,9,14,None, None, None, None], [2,3,8,12])"
   ],
   "metadata": {
    "collapsed": false,
    "pycharm": {
     "name": "#%%\n"
    }
   }
  },
  {
   "cell_type": "code",
   "execution_count": null,
   "outputs": [],
   "source": [],
   "metadata": {
    "collapsed": false,
    "pycharm": {
     "name": "#%%\n"
    }
   }
  }
 ],
 "metadata": {
  "kernelspec": {
   "display_name": "Python 3",
   "language": "python",
   "name": "python3"
  },
  "language_info": {
   "codemirror_mode": {
    "name": "ipython",
    "version": 2
   },
   "file_extension": ".py",
   "mimetype": "text/x-python",
   "name": "python",
   "nbconvert_exporter": "python",
   "pygments_lexer": "ipython2",
   "version": "2.7.6"
  }
 },
 "nbformat": 4,
 "nbformat_minor": 0
}