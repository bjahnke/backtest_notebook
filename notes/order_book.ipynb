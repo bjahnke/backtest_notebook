{
 "cells": [
  {
   "cell_type": "code",
   "execution_count": 1,
   "metadata": {
    "collapsed": true,
    "pycharm": {
     "name": "#%%\n"
    }
   },
   "outputs": [],
   "source": [
    "import scripts\n",
    "import data_manager.utils as sbtu\n",
    "import tda_access.access as tda\n",
    "import json"
   ]
  },
  {
   "cell_type": "code",
   "execution_count": 2,
   "outputs": [
    {
     "data": {
      "text/plain": "{'credentials': {'client': {'api_key': 'UGLWOLA4LMXN684IG3MIMXMPDN1GBMNR',\n   'redirect_uri': 'https://localhost',\n   'token_path': 'C:\\\\Users\\\\bjahnke\\\\Documents\\\\access\\\\token\\\\token.json'},\n  'account_id': 686081659},\n 'paths': {'live_quote_path': 'C:\\\\Users\\\\bjahnke\\\\Documents\\\\access\\\\outputs',\n  'price_history_path': 'C:\\\\Users\\\\bjahnke\\\\Documents\\\\access\\\\outputs\\\\history.csv'}}"
     },
     "execution_count": 2,
     "metadata": {},
     "output_type": "execute_result"
    }
   ],
   "source": [
    "with open('..\\\\data_args\\\\credentials.json') as fp:\n",
    "    creds = json.load(fp)\n",
    "\n",
    "\n",
    "creds"
   ],
   "metadata": {
    "collapsed": false,
    "pycharm": {
     "name": "#%%\n"
    }
   }
  },
  {
   "cell_type": "code",
   "execution_count": 3,
   "outputs": [
    {
     "name": "stderr",
     "output_type": "stream",
     "text": [
      "Failed to find token file 'C:\\Users\\bjahnke\\Documents\\access\\token\\token.json'\n"
     ]
    },
    {
     "ename": "WebDriverException",
     "evalue": "Message: Service geckodriver unexpectedly exited. Status code was: 64\n",
     "output_type": "error",
     "traceback": [
      "\u001B[1;31m---------------------------------------------------------------------------\u001B[0m",
      "\u001B[1;31mWebDriverException\u001B[0m                        Traceback (most recent call last)",
      "Input \u001B[1;32mIn [3]\u001B[0m, in \u001B[0;36m<cell line: 1>\u001B[1;34m()\u001B[0m\n\u001B[1;32m----> 1\u001B[0m td_client \u001B[38;5;241m=\u001B[39m \u001B[43mtda\u001B[49m\u001B[38;5;241;43m.\u001B[39;49m\u001B[43mTdBrokerClient\u001B[49m\u001B[43m(\u001B[49m\u001B[43mcreds\u001B[49m\u001B[43m[\u001B[49m\u001B[38;5;124;43m'\u001B[39;49m\u001B[38;5;124;43mcredentials\u001B[39;49m\u001B[38;5;124;43m'\u001B[39;49m\u001B[43m]\u001B[49m\u001B[43m)\u001B[49m\n\u001B[0;32m      2\u001B[0m td_client\u001B[38;5;241m.\u001B[39maccount_info()\n",
      "File \u001B[1;32mc:\\users\\bjahn\\pycharmprojects\\backtest_notebook\\venv\\src\\tda-access\\tda_access\\access.py:593\u001B[0m, in \u001B[0;36mTdBrokerClient.__init__\u001B[1;34m(self, credentials)\u001B[0m\n\u001B[0;32m    591\u001B[0m \u001B[38;5;28mself\u001B[39m\u001B[38;5;241m.\u001B[39m_client_credentials \u001B[38;5;241m=\u001B[39m credentials[\u001B[38;5;124m'\u001B[39m\u001B[38;5;124mclient\u001B[39m\u001B[38;5;124m'\u001B[39m]\n\u001B[0;32m    592\u001B[0m \u001B[38;5;28mself\u001B[39m\u001B[38;5;241m.\u001B[39m_account_id \u001B[38;5;241m=\u001B[39m credentials[\u001B[38;5;124m'\u001B[39m\u001B[38;5;124maccount_id\u001B[39m\u001B[38;5;124m'\u001B[39m]\n\u001B[1;32m--> 593\u001B[0m \u001B[38;5;28;43msuper\u001B[39;49m\u001B[43m(\u001B[49m\u001B[43m)\u001B[49m\u001B[38;5;241;43m.\u001B[39;49m\u001B[38;5;21;43m__init__\u001B[39;49m\u001B[43m(\u001B[49m\u001B[38;5;28;43mself\u001B[39;49m\u001B[38;5;241;43m.\u001B[39;49m\u001B[43m_client_credentials\u001B[49m\u001B[43m)\u001B[49m\n\u001B[0;32m    594\u001B[0m \u001B[38;5;28mself\u001B[39m\u001B[38;5;241m.\u001B[39m_cached_orders \u001B[38;5;241m=\u001B[39m \u001B[38;5;28;01mNone\u001B[39;00m\n",
      "File \u001B[1;32mc:\\users\\bjahn\\pycharmprojects\\backtest_notebook\\venv\\lib\\site-packages\\abstract_broker\\abstract.py:204\u001B[0m, in \u001B[0;36mAbstractBrokerClient.__init__\u001B[1;34m(self, credentials, *args, **kwargs)\u001B[0m\n\u001B[0;32m    201\u001B[0m \u001B[38;5;28;01melse\u001B[39;00m:\n\u001B[0;32m    202\u001B[0m     \u001B[38;5;28mself\u001B[39m\u001B[38;5;241m.\u001B[39m\u001B[38;5;18m__class__\u001B[39m\u001B[38;5;241m.\u001B[39m__instance_exists \u001B[38;5;241m=\u001B[39m \u001B[38;5;28;01mTrue\u001B[39;00m\n\u001B[1;32m--> 204\u001B[0m \u001B[38;5;28mself\u001B[39m\u001B[38;5;241m.\u001B[39m_client \u001B[38;5;241m=\u001B[39m \u001B[38;5;28;43mself\u001B[39;49m\u001B[38;5;241;43m.\u001B[39;49m\u001B[38;5;18;43m__class__\u001B[39;49m\u001B[38;5;241;43m.\u001B[39;49m\u001B[43m_get_broker_client\u001B[49m\u001B[43m(\u001B[49m\u001B[43mcredentials\u001B[49m\u001B[43m)\u001B[49m\n",
      "File \u001B[1;32mc:\\users\\bjahn\\pycharmprojects\\backtest_notebook\\venv\\src\\tda-access\\tda_access\\access.py:598\u001B[0m, in \u001B[0;36mTdBrokerClient._get_broker_client\u001B[1;34m(credentials)\u001B[0m\n\u001B[0;32m    596\u001B[0m \u001B[38;5;129m@staticmethod\u001B[39m\n\u001B[0;32m    597\u001B[0m \u001B[38;5;28;01mdef\u001B[39;00m \u001B[38;5;21m_get_broker_client\u001B[39m(credentials) \u001B[38;5;241m-\u001B[39m\u001B[38;5;241m>\u001B[39m tda\u001B[38;5;241m.\u001B[39mclient\u001B[38;5;241m.\u001B[39mClient:\n\u001B[1;32m--> 598\u001B[0m     \u001B[38;5;28;01mreturn\u001B[39;00m tda\u001B[38;5;241m.\u001B[39mauth\u001B[38;5;241m.\u001B[39measy_client(\n\u001B[0;32m    599\u001B[0m         webdriver_func\u001B[38;5;241m=\u001B[39mselenium\u001B[38;5;241m.\u001B[39mwebdriver\u001B[38;5;241m.\u001B[39mFirefox,\n\u001B[0;32m    600\u001B[0m         \u001B[38;5;241m*\u001B[39m\u001B[38;5;241m*\u001B[39mcredentials\n\u001B[0;32m    601\u001B[0m     )\n",
      "File \u001B[1;32mc:\\users\\bjahn\\pycharmprojects\\backtest_notebook\\venv\\lib\\site-packages\\tda\\auth.py:475\u001B[0m, in \u001B[0;36measy_client\u001B[1;34m(api_key, redirect_uri, token_path, webdriver_func, asyncio, enforce_enums)\u001B[0m\n\u001B[0;32m    472\u001B[0m logger\u001B[38;5;241m.\u001B[39mwarning(\u001B[38;5;124m'\u001B[39m\u001B[38;5;124mFailed to find token file \u001B[39m\u001B[38;5;130;01m\\'\u001B[39;00m\u001B[38;5;132;01m%s\u001B[39;00m\u001B[38;5;130;01m\\'\u001B[39;00m\u001B[38;5;124m'\u001B[39m, token_path)\n\u001B[0;32m    474\u001B[0m \u001B[38;5;28;01mif\u001B[39;00m webdriver_func \u001B[38;5;129;01mis\u001B[39;00m \u001B[38;5;129;01mnot\u001B[39;00m \u001B[38;5;28;01mNone\u001B[39;00m:\n\u001B[1;32m--> 475\u001B[0m     \u001B[38;5;28;01mwith\u001B[39;00m \u001B[43mwebdriver_func\u001B[49m\u001B[43m(\u001B[49m\u001B[43m)\u001B[49m \u001B[38;5;28;01mas\u001B[39;00m driver:\n\u001B[0;32m    476\u001B[0m         c \u001B[38;5;241m=\u001B[39m client_from_login_flow(\n\u001B[0;32m    477\u001B[0m             driver, api_key, redirect_uri, token_path, asyncio\u001B[38;5;241m=\u001B[39masyncio,\n\u001B[0;32m    478\u001B[0m             enforce_enums\u001B[38;5;241m=\u001B[39menforce_enums)\n\u001B[0;32m    479\u001B[0m         logger\u001B[38;5;241m.\u001B[39minfo(\n\u001B[0;32m    480\u001B[0m             \u001B[38;5;124m'\u001B[39m\u001B[38;5;124mReturning client fetched using webdriver, writing\u001B[39m\u001B[38;5;124m'\u001B[39m \u001B[38;5;241m+\u001B[39m\n\u001B[0;32m    481\u001B[0m             \u001B[38;5;124m'\u001B[39m\u001B[38;5;124mtoken to \u001B[39m\u001B[38;5;130;01m\\'\u001B[39;00m\u001B[38;5;132;01m%s\u001B[39;00m\u001B[38;5;130;01m\\'\u001B[39;00m\u001B[38;5;124m'\u001B[39m, token_path)\n",
      "File \u001B[1;32mc:\\users\\bjahn\\pycharmprojects\\backtest_notebook\\venv\\lib\\site-packages\\selenium\\webdriver\\firefox\\webdriver.py:172\u001B[0m, in \u001B[0;36mWebDriver.__init__\u001B[1;34m(self, firefox_profile, firefox_binary, capabilities, proxy, executable_path, options, service_log_path, service_args, service, desired_capabilities, log_path, keep_alive)\u001B[0m\n\u001B[0;32m    167\u001B[0m \u001B[38;5;28;01mif\u001B[39;00m \u001B[38;5;129;01mnot\u001B[39;00m \u001B[38;5;28mself\u001B[39m\u001B[38;5;241m.\u001B[39mservice:\n\u001B[0;32m    168\u001B[0m     \u001B[38;5;28mself\u001B[39m\u001B[38;5;241m.\u001B[39mservice \u001B[38;5;241m=\u001B[39m Service(\n\u001B[0;32m    169\u001B[0m         executable_path,\n\u001B[0;32m    170\u001B[0m         service_args\u001B[38;5;241m=\u001B[39mservice_args,\n\u001B[0;32m    171\u001B[0m         log_path\u001B[38;5;241m=\u001B[39mservice_log_path)\n\u001B[1;32m--> 172\u001B[0m \u001B[38;5;28;43mself\u001B[39;49m\u001B[38;5;241;43m.\u001B[39;49m\u001B[43mservice\u001B[49m\u001B[38;5;241;43m.\u001B[39;49m\u001B[43mstart\u001B[49m\u001B[43m(\u001B[49m\u001B[43m)\u001B[49m\n\u001B[0;32m    174\u001B[0m executor \u001B[38;5;241m=\u001B[39m FirefoxRemoteConnection(\n\u001B[0;32m    175\u001B[0m     remote_server_addr\u001B[38;5;241m=\u001B[39m\u001B[38;5;28mself\u001B[39m\u001B[38;5;241m.\u001B[39mservice\u001B[38;5;241m.\u001B[39mservice_url,\n\u001B[0;32m    176\u001B[0m     ignore_proxy\u001B[38;5;241m=\u001B[39moptions\u001B[38;5;241m.\u001B[39m_ignore_local_proxy)\n\u001B[0;32m    177\u001B[0m \u001B[38;5;28msuper\u001B[39m()\u001B[38;5;241m.\u001B[39m\u001B[38;5;21m__init__\u001B[39m(\n\u001B[0;32m    178\u001B[0m     command_executor\u001B[38;5;241m=\u001B[39mexecutor,\n\u001B[0;32m    179\u001B[0m     options\u001B[38;5;241m=\u001B[39moptions,\n\u001B[0;32m    180\u001B[0m     keep_alive\u001B[38;5;241m=\u001B[39m\u001B[38;5;28;01mTrue\u001B[39;00m)\n",
      "File \u001B[1;32mc:\\users\\bjahn\\pycharmprojects\\backtest_notebook\\venv\\lib\\site-packages\\selenium\\webdriver\\common\\service.py:98\u001B[0m, in \u001B[0;36mService.start\u001B[1;34m(self)\u001B[0m\n\u001B[0;32m     96\u001B[0m count \u001B[38;5;241m=\u001B[39m \u001B[38;5;241m0\u001B[39m\n\u001B[0;32m     97\u001B[0m \u001B[38;5;28;01mwhile\u001B[39;00m \u001B[38;5;28;01mTrue\u001B[39;00m:\n\u001B[1;32m---> 98\u001B[0m     \u001B[38;5;28;43mself\u001B[39;49m\u001B[38;5;241;43m.\u001B[39;49m\u001B[43massert_process_still_running\u001B[49m\u001B[43m(\u001B[49m\u001B[43m)\u001B[49m\n\u001B[0;32m     99\u001B[0m     \u001B[38;5;28;01mif\u001B[39;00m \u001B[38;5;28mself\u001B[39m\u001B[38;5;241m.\u001B[39mis_connectable():\n\u001B[0;32m    100\u001B[0m         \u001B[38;5;28;01mbreak\u001B[39;00m\n",
      "File \u001B[1;32mc:\\users\\bjahn\\pycharmprojects\\backtest_notebook\\venv\\lib\\site-packages\\selenium\\webdriver\\common\\service.py:110\u001B[0m, in \u001B[0;36mService.assert_process_still_running\u001B[1;34m(self)\u001B[0m\n\u001B[0;32m    108\u001B[0m return_code \u001B[38;5;241m=\u001B[39m \u001B[38;5;28mself\u001B[39m\u001B[38;5;241m.\u001B[39mprocess\u001B[38;5;241m.\u001B[39mpoll()\n\u001B[0;32m    109\u001B[0m \u001B[38;5;28;01mif\u001B[39;00m return_code:\n\u001B[1;32m--> 110\u001B[0m     \u001B[38;5;28;01mraise\u001B[39;00m WebDriverException(\n\u001B[0;32m    111\u001B[0m         \u001B[38;5;124m'\u001B[39m\u001B[38;5;124mService \u001B[39m\u001B[38;5;132;01m%s\u001B[39;00m\u001B[38;5;124m unexpectedly exited. Status code was: \u001B[39m\u001B[38;5;132;01m%s\u001B[39;00m\u001B[38;5;124m'\u001B[39m\n\u001B[0;32m    112\u001B[0m         \u001B[38;5;241m%\u001B[39m (\u001B[38;5;28mself\u001B[39m\u001B[38;5;241m.\u001B[39mpath, return_code)\n\u001B[0;32m    113\u001B[0m     )\n",
      "\u001B[1;31mWebDriverException\u001B[0m: Message: Service geckodriver unexpectedly exited. Status code was: 64\n"
     ]
    }
   ],
   "source": [
    "td_client = tda.TdBrokerClient(creds['credentials'])\n",
    "td_client.account_info()"
   ],
   "metadata": {
    "collapsed": false,
    "pycharm": {
     "name": "#%%\n"
    }
   }
  },
  {
   "cell_type": "code",
   "execution_count": 2,
   "outputs": [],
   "source": [
    "(\n",
    "    _price_data,\n",
    "    _bench,\n",
    "    _strategy_overview,\n",
    "    _peak_table,\n",
    "    _entry_table,\n",
    "    _strategy_lookup\n",
    ") = scripts.load_data_package()\n",
    "_relative_rebased = sbtu.PriceGlob(_price_data).relative_rebased(_bench.close)\n",
    "_price_data_by_symbol = sbtu.PriceGlob(_price_data).swap_level()"
   ],
   "metadata": {
    "collapsed": false,
    "pycharm": {
     "name": "#%%\n"
    }
   }
  },
  {
   "cell_type": "code",
   "execution_count": null,
   "outputs": [],
   "source": [],
   "metadata": {
    "collapsed": false,
    "pycharm": {
     "name": "#%%\n"
    }
   }
  },
  {
   "cell_type": "code",
   "execution_count": 3,
   "outputs": [
    {
     "data": {
      "text/plain": "'\\nPosition: combination of system calculation and actual fill data\\nsymbol | size | entry_price | stop_price |\\nsys    | sys  | broker      | sys        |\\n'"
     },
     "execution_count": 3,
     "metadata": {},
     "output_type": "execute_result"
    }
   ],
   "source": [
    "from dataclasses import dataclass\n",
    "\n",
    "\"\"\"\n",
    "Position: combination of system calculation and actual fill data\n",
    "symbol | size | entry_price | stop_price |\n",
    "sys    | sys  | broker      | sys        |\n",
    "\"\"\"\n",
    "\n",
    "# @dataclass\n",
    "# class Position:\n",
    "#     symbol: str\n",
    "#     size: float\n",
    "#     entry_price:\n",
    "#     def __init__(self, symbol, size):\n",
    "#         self.symbol = symbol\n",
    "#         self.size = size\n",
    "\n",
    "\n",
    "\n",
    "\n"
   ],
   "metadata": {
    "collapsed": false,
    "pycharm": {
     "name": "#%%\n"
    }
   }
  },
  {
   "cell_type": "code",
   "execution_count": 4,
   "outputs": [
    {
     "data": {
      "text/plain": "\"\\nTBD need to know if position risk has been reduced, otherwise don't generate orders for symbol\\n\\nOption 2:\\n    - Store initial_size and current_size of position\\n    - if current_size is some criteria below the initial size, then risk is reduced\\n    - filter out stocks where criteria is not met\\n\\nPosition Table Generation:\\n1. Each row in the position table shall obtain the following info:\\n    - Symbol name\\n    - initial size\\n    - entry date?\\n    - direction?\\n    -\\n\\nOrder Table Generation:\\n1.) Order Table generation shall follow this procedure:\\n    1. Retrieve data for current open positions\\n    2. For each open position:\\n        1. if at least one of the following is true:\\n            TRAIL_STOP || STOP || TARGET_EXIT || FRENCH_STOP || REGIME_END\\n            1. Generate an order entry, where type is the first discovered reason for entry creation\\n    3. For each symbol, create order entry if:\\n        symbol not in order_table && risk_reduced is True\\n    4.\\n\\n\\nOrder Table Output:\\n1.) The following data shall be stored in the order_table, sorted by close type first. It may be a view of a larger table:\\n    Symbol,\\n    direction of trade,\\n    position size (dollars or shares),\\n    type: [\\n        ENTRY,\\n        TRAIL_STOP,\\n        STOP,\\n        TARGET_EXIT,\\n        FRENCH_STOP,\\n        REGIME_END\\n    ]\\n\\n\\n2.) Output of the order table shall be sorted by type, with the following priority:\\n    1. STOP\\n    2. TRAIL_STOP\\n    3. TARGET_EXIT\\n    4. FRENCH_STOP\\n    5. REGIME_END\\n    6. ENTRY\\n\\n\\n\\n2.)\\nEntries/Exits in the order table shall be generated from\\n\""
     },
     "execution_count": 4,
     "metadata": {},
     "output_type": "execute_result"
    }
   ],
   "source": [
    "\"\"\"\n",
    "TBD need to know if position risk has been reduced, otherwise don't generate orders for symbol\n",
    "\n",
    "Option 2:\n",
    "    - Store initial_size and current_size of position\n",
    "    - if current_size is some criteria below the initial size, then risk is reduced\n",
    "    - filter out stocks where criteria is not met\n",
    "\n",
    "Position Table Generation:\n",
    "1. Each row in the position table shall obtain the following info:\n",
    "    - Symbol name\n",
    "    - initial size\n",
    "    - entry date?\n",
    "    - direction?\n",
    "    -\n",
    "\n",
    "Order Table Generation:\n",
    "1.) Order Table generation shall follow this procedure:\n",
    "    1. Retrieve data for current open positions\n",
    "    2. For each open position:\n",
    "        1. if at least one of the following is true:\n",
    "            TRAIL_STOP || STOP || TARGET_EXIT || FRENCH_STOP || REGIME_END\n",
    "            1. Generate an order entry, where type is the first discovered reason for entry creation\n",
    "    3. For each symbol, create order entry if:\n",
    "        symbol not in order_table && risk_reduced is True\n",
    "    4.\n",
    "\n",
    "\n",
    "Order Table Output:\n",
    "1.) The following data shall be stored in the order_table, sorted by close type first. It may be a view of a larger table:\n",
    "    Symbol,\n",
    "    direction of trade,\n",
    "    position size (dollars or shares),\n",
    "    type: [\n",
    "        ENTRY,\n",
    "        TRAIL_STOP,\n",
    "        STOP,\n",
    "        TARGET_EXIT,\n",
    "        FRENCH_STOP,\n",
    "        REGIME_END\n",
    "    ]\n",
    "\n",
    "\n",
    "2.) Output of the order table shall be sorted by type, with the following priority:\n",
    "    1. STOP\n",
    "    2. TRAIL_STOP\n",
    "    3. TARGET_EXIT\n",
    "    4. FRENCH_STOP\n",
    "    5. REGIME_END\n",
    "    6. ENTRY\n",
    "\n",
    "\n",
    "\n",
    "2.)\n",
    "Entries/Exits in the order table shall be generated from\n",
    "\"\"\"\n"
   ],
   "metadata": {
    "collapsed": false,
    "pycharm": {
     "name": "#%%\n"
    }
   }
  },
  {
   "cell_type": "code",
   "execution_count": 5,
   "outputs": [
    {
     "ename": "AttributeError",
     "evalue": "'PriceGlob' object has no attribute 'items'",
     "output_type": "error",
     "traceback": [
      "\u001B[1;31m---------------------------------------------------------------------------\u001B[0m",
      "\u001B[1;31mAttributeError\u001B[0m                            Traceback (most recent call last)",
      "Input \u001B[1;32mIn [5]\u001B[0m, in \u001B[0;36m<cell line: 1>\u001B[1;34m()\u001B[0m\n\u001B[1;32m----> 1\u001B[0m \u001B[38;5;28;01mfor\u001B[39;00m symbol, glob \u001B[38;5;129;01min\u001B[39;00m \u001B[43m_price_data_by_symbol\u001B[49m\u001B[38;5;241;43m.\u001B[39;49m\u001B[43mitems\u001B[49m():\n\u001B[0;32m      2\u001B[0m     symbol_data \u001B[38;5;241m=\u001B[39m _strategy_lookup[symbol]\n\u001B[0;32m      3\u001B[0m     rg_id \u001B[38;5;241m=\u001B[39m symbol_data\u001B[38;5;241m.\u001B[39mregime_table\u001B[38;5;241m.\u001B[39mrg\u001B[38;5;241m.\u001B[39miat[\u001B[38;5;241m-\u001B[39m\u001B[38;5;241m1\u001B[39m]\n",
      "\u001B[1;31mAttributeError\u001B[0m: 'PriceGlob' object has no attribute 'items'"
     ]
    }
   ],
   "source": [
    "\n",
    "for symbol, glob in _price_data_by_symbol.items():\n",
    "    symbol_data = _strategy_lookup[symbol]\n",
    "    rg_id = symbol_data.regime_table.rg.iat[-1]\n",
    "    rg_swings = symbol_data.peak_table.loc[\n",
    "        (symbol_data.peak_table.type == rg_id)\n",
    "    ]\n",
    "    latest_swing = rg_swings.iloc[-1]\n"
   ],
   "metadata": {
    "collapsed": false,
    "pycharm": {
     "name": "#%%\n"
    }
   }
  },
  {
   "cell_type": "code",
   "execution_count": null,
   "outputs": [],
   "source": [],
   "metadata": {
    "collapsed": false,
    "pycharm": {
     "name": "#%%\n"
    }
   }
  },
  {
   "cell_type": "markdown",
   "source": [],
   "metadata": {
    "collapsed": false,
    "pycharm": {
     "name": "#%% md\n"
    }
   }
  },
  {
   "cell_type": "code",
   "execution_count": null,
   "outputs": [],
   "source": [],
   "metadata": {
    "collapsed": false,
    "pycharm": {
     "name": "#%%\n"
    }
   }
  }
 ],
 "metadata": {
  "kernelspec": {
   "display_name": "Python 3",
   "language": "python",
   "name": "python3"
  },
  "language_info": {
   "codemirror_mode": {
    "name": "ipython",
    "version": 2
   },
   "file_extension": ".py",
   "mimetype": "text/x-python",
   "name": "python",
   "nbconvert_exporter": "python",
   "pygments_lexer": "ipython2",
   "version": "2.7.6"
  }
 },
 "nbformat": 4,
 "nbformat_minor": 0
}