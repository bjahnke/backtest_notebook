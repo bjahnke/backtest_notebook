{
 "cells": [
  {
   "cell_type": "code",
   "execution_count": 1,
   "metadata": {
    "collapsed": true
   },
   "outputs": [],
   "source": [
    "\"\"\"\n",
    "TBD need to know if position risk has been reduced, otherwise don't generate orders for symbol\n",
    "\n",
    "Option 2:\n",
    "    - Store initial_size and current_size of position\n",
    "    - if current_size is some criteria below the initial size, then risk is reduced\n",
    "    - filter out stocks where criteria is not met\n",
    "\n",
    "Position Table Generation:\n",
    "1. Each row in the position table shall obtain the following info:\n",
    "    - Symbol name\n",
    "    - initial size\n",
    "    - entry date?\n",
    "    - direction?\n",
    "    -\n",
    "\n",
    "Order Table Generation:\n",
    "1.) Order Table generation shall follow this procedure:\n",
    "    1. Retrieve data for current open positions\n",
    "    2. For each open position:\n",
    "        1. if at least one of the following is true:\n",
    "            TRAIL_STOP || STOP || TARGET_EXIT || FRENCH_STOP || REGIME_END\n",
    "            1. Generate an order entry, where type is the first discovered reason for entry creation\n",
    "    3. For each symbol, create order entry if:\n",
    "        symbol not in order_table && risk_reduced is True\n",
    "    4.\n",
    "\n",
    "\n",
    "Order Table Output:\n",
    "1.) The following data shall be stored in the order_table, sorted by close type first. It may be a view of a larger table:\n",
    "    Symbol,\n",
    "    direction of trade,\n",
    "    position size (dollars or shares),\n",
    "    type: [\n",
    "        ENTRY,\n",
    "        TRAIL_STOP,\n",
    "        STOP,\n",
    "        TARGET_EXIT,\n",
    "        FRENCH_STOP,\n",
    "        REGIME_END\n",
    "    ]\n",
    "\n",
    "\n",
    "2.) Output of the order table shall be sorted by type, with the following priority:\n",
    "    1. STOP\n",
    "    2. TRAIL_STOP\n",
    "    3. TARGET_EXIT\n",
    "    4. FRENCH_STOP\n",
    "    5. REGIME_END\n",
    "    6. ENTRY\n",
    "\n",
    "\n",
    "\n",
    "2.)\n",
    "Entries/Exits in the order table shall be generated from\n",
    "\"\"\"\n",
    "import json\n",
    "import scripts.account_data as sad\n",
    "import tda_access.access as taa\n",
    "import pandas as pd\n",
    "import pathlib"
   ]
  },
  {
   "cell_type": "code",
   "execution_count": 2,
   "outputs": [],
   "source": [
    "td_client = taa.TdBrokerClient.init_from_json('..\\\\data_args\\\\credentials.json')"
   ],
   "metadata": {
    "collapsed": false
   }
  },
  {
   "cell_type": "code",
   "execution_count": 6,
   "outputs": [],
   "source": [
    "\n",
    "# init client and tables\n",
    "regime_df = pd.read_excel(pathlib.Path('..') / 'data' / 'regimes.xlsx')\n",
    "\n",
    "with open('scanner_config.json') as fp:\n",
    "    scanner_args = json.load(fp)\n",
    "\n",
    "(\n",
    "    website,\n",
    "    start,\n",
    "    end,\n",
    "    vlty_n,\n",
    "    dist_pct,\n",
    "    retrace_pct,\n",
    "    threshold,\n",
    "    dgt,\n",
    "    d_vol,\n",
    "    r_vol,\n",
    "    lvl,\n",
    "    bm_ticker,\n",
    "    bm_col,\n",
    "    ccy_col,\n",
    "    window,\n",
    "    st,\n",
    "    lt,\n",
    "    save_ticker_df,\n",
    "    save_last_row_df,\n",
    "    save_regime_df\n",
    ") = list(scanner_args.values())\n",
    "fast = st\n",
    "slow = lt\n",
    "regime_cols = [\n",
    "    'fc','fc_r',\n",
    "    'sma','sma_r', 'bo',\n",
    "    'bo_r','tt','tt_r'\n",
    "]\n",
    "groupby_cols = ['score', 'delta'] + regime_cols\n",
    "sort_key = ['GICS Sub-Industry']\n",
    "grouped = regime_df.groupby(sort_key)[groupby_cols].mean().sort_values(\n",
    "    by= ['GICS Sub-Industry','score'])\n",
    "\n",
    "# delta is the diff between absolute and relative regime scores\n",
    "delta_bound = 0.5\n",
    "sub_sectors = list(grouped.loc[\n",
    "    ((grouped.delta >= delta_bound) & (grouped.fc_r > 0)) |\n",
    "    ((grouped.delta <= -delta_bound) & (grouped.fc_r < 0))\n",
    "].index)\n",
    "watch_stocks = regime_df.loc[\n",
    "    (regime_df['GICS Sub-Industry'].isin(sub_sectors)) &\n",
    "    (regime_df['fc_r'] * grouped['delta'].loc[regime_df['GICS Sub-Industry']].values > 0)\n",
    "    , 'symbol'\n",
    "]\n"
   ],
   "metadata": {
    "collapsed": false
   }
  },
  {
   "cell_type": "code",
   "execution_count": 7,
   "outputs": [
    {
     "ename": "HTTPStatusError",
     "evalue": "Client error '400 Bad Request' for url 'https://api.tdameritrade.com/v1/oauth2/token'\nFor more information check: https://httpstatuses.com/400",
     "output_type": "error",
     "traceback": [
      "\u001B[1;31m---------------------------------------------------------------------------\u001B[0m",
      "\u001B[1;31mHTTPStatusError\u001B[0m                           Traceback (most recent call last)",
      "Input \u001B[1;32mIn [7]\u001B[0m, in \u001B[0;36m<cell line: 1>\u001B[1;34m()\u001B[0m\n\u001B[1;32m----> 1\u001B[0m _strategy_lookup, tx_tables, price_histories, bench \u001B[38;5;241m=\u001B[39m \u001B[43msad\u001B[49m\u001B[38;5;241;43m.\u001B[39;49m\u001B[43mmain\u001B[49m\u001B[43m(\u001B[49m\n\u001B[0;32m      2\u001B[0m \u001B[43m    \u001B[49m\u001B[43mtd_client\u001B[49m\u001B[38;5;241;43m=\u001B[39;49m\u001B[43mtd_client\u001B[49m\u001B[43m,\u001B[49m\n\u001B[0;32m      3\u001B[0m \u001B[43m    \u001B[49m\u001B[43msub_sectors\u001B[49m\u001B[38;5;241;43m=\u001B[39;49m\u001B[43m \u001B[49m\u001B[43m[\u001B[49m\u001B[43m]\u001B[49m\u001B[43m,\u001B[49m\n\u001B[0;32m      4\u001B[0m \u001B[43m    \u001B[49m\u001B[43msymbols\u001B[49m\u001B[38;5;241;43m=\u001B[39;49m\u001B[43m[\u001B[49m\u001B[38;5;124;43m'\u001B[39;49m\u001B[38;5;124;43mFRC\u001B[39;49m\u001B[38;5;124;43m'\u001B[39;49m\u001B[43m]\u001B[49m\u001B[43m \u001B[49m\u001B[38;5;241;43m+\u001B[39;49m\u001B[43m \u001B[49m\u001B[38;5;28;43mlist\u001B[39;49m\u001B[43m(\u001B[49m\u001B[43mwatch_stocks\u001B[49m\u001B[43m)\u001B[49m\n\u001B[0;32m      5\u001B[0m \u001B[43m)\u001B[49m\n",
      "File \u001B[1;32m~\\PycharmProjects\\backtest_notebook\\scripts\\account_data.py:317\u001B[0m, in \u001B[0;36mmain\u001B[1;34m(td_client, sub_sectors, symbols)\u001B[0m\n\u001B[0;32m    309\u001B[0m \u001B[38;5;124;03m\"\"\"\u001B[39;00m\n\u001B[0;32m    310\u001B[0m \n\u001B[0;32m    311\u001B[0m \u001B[38;5;124;03m:param td_client:\u001B[39;00m\n\u001B[1;32m   (...)\u001B[0m\n\u001B[0;32m    314\u001B[0m \u001B[38;5;124;03m:return:\u001B[39;00m\n\u001B[0;32m    315\u001B[0m \u001B[38;5;124;03m\"\"\"\u001B[39;00m\n\u001B[0;32m    316\u001B[0m \u001B[38;5;66;03m# init client and tables\u001B[39;00m\n\u001B[1;32m--> 317\u001B[0m account_info \u001B[38;5;241m=\u001B[39m \u001B[43mtd_client\u001B[49m\u001B[38;5;241;43m.\u001B[39;49m\u001B[43maccount_info\u001B[49m\u001B[43m(\u001B[49m\u001B[43m)\u001B[49m\n\u001B[0;32m    318\u001B[0m main_merge(td_client)\n\u001B[0;32m    319\u001B[0m tx_tables \u001B[38;5;241m=\u001B[39m TransactionTables\u001B[38;5;241m.\u001B[39mfrom_excel(\u001B[38;5;124m'\u001B[39m\u001B[38;5;124m..\u001B[39m\u001B[38;5;130;01m\\\\\u001B[39;00m\u001B[38;5;124mdata\u001B[39m\u001B[38;5;130;01m\\\\\u001B[39;00m\u001B[38;5;124mtransaction_data_local.xlsx\u001B[39m\u001B[38;5;124m'\u001B[39m)\n",
      "File \u001B[1;32mc:\\users\\bjahn\\pycharmprojects\\backtest_notebook\\venv\\src\\tda-access\\tda_access\\access.py:393\u001B[0m, in \u001B[0;36mTdBrokerClient.account_info\u001B[1;34m(self, *args, **kwargs)\u001B[0m\n\u001B[0;32m    392\u001B[0m \u001B[38;5;28;01mdef\u001B[39;00m \u001B[38;5;21maccount_info\u001B[39m(\u001B[38;5;28mself\u001B[39m, \u001B[38;5;241m*\u001B[39margs, \u001B[38;5;241m*\u001B[39m\u001B[38;5;241m*\u001B[39mkwargs):\n\u001B[1;32m--> 393\u001B[0m     account_info \u001B[38;5;241m=\u001B[39m \u001B[38;5;28;43mself\u001B[39;49m\u001B[38;5;241;43m.\u001B[39;49m\u001B[43mclient\u001B[49m\u001B[38;5;241;43m.\u001B[39;49m\u001B[43mget_account\u001B[49m\u001B[43m(\u001B[49m\n\u001B[0;32m    394\u001B[0m \u001B[43m        \u001B[49m\u001B[38;5;28;43mself\u001B[39;49m\u001B[38;5;241;43m.\u001B[39;49m\u001B[43m_account_id\u001B[49m\u001B[43m,\u001B[49m\n\u001B[0;32m    395\u001B[0m \u001B[43m        \u001B[49m\u001B[43mfields\u001B[49m\u001B[38;5;241;43m=\u001B[39;49m\u001B[43mtda\u001B[49m\u001B[38;5;241;43m.\u001B[39;49m\u001B[43mclient\u001B[49m\u001B[38;5;241;43m.\u001B[39;49m\u001B[43mClient\u001B[49m\u001B[38;5;241;43m.\u001B[39;49m\u001B[43mAccount\u001B[49m\u001B[38;5;241;43m.\u001B[39;49m\u001B[43mFields\u001B[49m\u001B[38;5;241;43m.\u001B[39;49m\u001B[43mPOSITIONS\u001B[49m\n\u001B[0;32m    396\u001B[0m \u001B[43m    \u001B[49m\u001B[43m)\u001B[49m\u001B[38;5;241m.\u001B[39mjson()\n\u001B[0;32m    397\u001B[0m     \u001B[38;5;28;01mreturn\u001B[39;00m TdBrokerAccount(account_info)\n",
      "File \u001B[1;32mc:\\users\\bjahn\\pycharmprojects\\backtest_notebook\\venv\\lib\\site-packages\\tda\\client\\base.py:382\u001B[0m, in \u001B[0;36mBaseClient.get_account\u001B[1;34m(self, account_id, fields)\u001B[0m\n\u001B[0;32m    379\u001B[0m     params[\u001B[38;5;124m'\u001B[39m\u001B[38;5;124mfields\u001B[39m\u001B[38;5;124m'\u001B[39m] \u001B[38;5;241m=\u001B[39m \u001B[38;5;124m'\u001B[39m\u001B[38;5;124m,\u001B[39m\u001B[38;5;124m'\u001B[39m\u001B[38;5;241m.\u001B[39mjoin(fields)\n\u001B[0;32m    381\u001B[0m path \u001B[38;5;241m=\u001B[39m \u001B[38;5;124m'\u001B[39m\u001B[38;5;124m/v1/accounts/\u001B[39m\u001B[38;5;132;01m{}\u001B[39;00m\u001B[38;5;124m'\u001B[39m\u001B[38;5;241m.\u001B[39mformat(account_id)\n\u001B[1;32m--> 382\u001B[0m \u001B[38;5;28;01mreturn\u001B[39;00m \u001B[38;5;28;43mself\u001B[39;49m\u001B[38;5;241;43m.\u001B[39;49m\u001B[43m_get_request\u001B[49m\u001B[43m(\u001B[49m\u001B[43mpath\u001B[49m\u001B[43m,\u001B[49m\u001B[43m \u001B[49m\u001B[43mparams\u001B[49m\u001B[43m)\u001B[49m\n",
      "File \u001B[1;32mc:\\users\\bjahn\\pycharmprojects\\backtest_notebook\\venv\\lib\\site-packages\\tda\\client\\synchronous.py:10\u001B[0m, in \u001B[0;36mClient._get_request\u001B[1;34m(self, path, params)\u001B[0m\n\u001B[0;32m      9\u001B[0m \u001B[38;5;28;01mdef\u001B[39;00m \u001B[38;5;21m_get_request\u001B[39m(\u001B[38;5;28mself\u001B[39m, path, params):\n\u001B[1;32m---> 10\u001B[0m     \u001B[38;5;28;43mself\u001B[39;49m\u001B[38;5;241;43m.\u001B[39;49m\u001B[43mensure_updated_refresh_token\u001B[49m\u001B[43m(\u001B[49m\u001B[43m)\u001B[49m\n\u001B[0;32m     12\u001B[0m     dest \u001B[38;5;241m=\u001B[39m \u001B[38;5;124m'\u001B[39m\u001B[38;5;124mhttps://api.tdameritrade.com\u001B[39m\u001B[38;5;124m'\u001B[39m \u001B[38;5;241m+\u001B[39m path\n\u001B[0;32m     14\u001B[0m     req_num \u001B[38;5;241m=\u001B[39m \u001B[38;5;28mself\u001B[39m\u001B[38;5;241m.\u001B[39m_req_num()\n",
      "File \u001B[1;32mc:\\users\\bjahn\\pycharmprojects\\backtest_notebook\\venv\\lib\\site-packages\\tda\\client\\base.py:116\u001B[0m, in \u001B[0;36mBaseClient.ensure_updated_refresh_token\u001B[1;34m(self, update_interval_seconds)\u001B[0m\n\u001B[0;32m    113\u001B[0m \u001B[38;5;28;01mif\u001B[39;00m \u001B[38;5;129;01mnot\u001B[39;00m \u001B[38;5;28mself\u001B[39m\u001B[38;5;241m.\u001B[39mtoken_metadata:\n\u001B[0;32m    114\u001B[0m     \u001B[38;5;28;01mreturn\u001B[39;00m \u001B[38;5;28;01mNone\u001B[39;00m\n\u001B[1;32m--> 116\u001B[0m new_session \u001B[38;5;241m=\u001B[39m \u001B[38;5;28;43mself\u001B[39;49m\u001B[38;5;241;43m.\u001B[39;49m\u001B[43mtoken_metadata\u001B[49m\u001B[38;5;241;43m.\u001B[39;49m\u001B[43mensure_refresh_token_update\u001B[49m\u001B[43m(\u001B[49m\n\u001B[0;32m    117\u001B[0m \u001B[43m    \u001B[49m\u001B[38;5;28;43mself\u001B[39;49m\u001B[38;5;241;43m.\u001B[39;49m\u001B[43mapi_key\u001B[49m\u001B[43m,\u001B[49m\u001B[43m \u001B[49m\u001B[38;5;28;43mself\u001B[39;49m\u001B[38;5;241;43m.\u001B[39;49m\u001B[43msession\u001B[49m\u001B[43m,\u001B[49m\u001B[43m \u001B[49m\u001B[43mupdate_interval_seconds\u001B[49m\u001B[43m)\u001B[49m\n\u001B[0;32m    118\u001B[0m \u001B[38;5;28;01mif\u001B[39;00m new_session:\n\u001B[0;32m    119\u001B[0m     \u001B[38;5;28mself\u001B[39m\u001B[38;5;241m.\u001B[39msession \u001B[38;5;241m=\u001B[39m new_session\n",
      "File \u001B[1;32mc:\\users\\bjahn\\pycharmprojects\\backtest_notebook\\venv\\lib\\site-packages\\tda\\auth.py:248\u001B[0m, in \u001B[0;36mTokenMetadata.ensure_refresh_token_update\u001B[1;34m(self, api_key, session, update_interval_seconds)\u001B[0m\n\u001B[0;32m    245\u001B[0m old_token \u001B[38;5;241m=\u001B[39m session\u001B[38;5;241m.\u001B[39mtoken\n\u001B[0;32m    246\u001B[0m oauth \u001B[38;5;241m=\u001B[39m OAuth2Client(api_key)\n\u001B[1;32m--> 248\u001B[0m new_token \u001B[38;5;241m=\u001B[39m \u001B[43moauth\u001B[49m\u001B[38;5;241;43m.\u001B[39;49m\u001B[43mfetch_token\u001B[49m\u001B[43m(\u001B[49m\n\u001B[0;32m    249\u001B[0m \u001B[43m    \u001B[49m\u001B[43mTOKEN_ENDPOINT\u001B[49m\u001B[43m,\u001B[49m\n\u001B[0;32m    250\u001B[0m \u001B[43m    \u001B[49m\u001B[43mgrant_type\u001B[49m\u001B[38;5;241;43m=\u001B[39;49m\u001B[38;5;124;43m'\u001B[39;49m\u001B[38;5;124;43mrefresh_token\u001B[39;49m\u001B[38;5;124;43m'\u001B[39;49m\u001B[43m,\u001B[49m\n\u001B[0;32m    251\u001B[0m \u001B[43m    \u001B[49m\u001B[43mrefresh_token\u001B[49m\u001B[38;5;241;43m=\u001B[39;49m\u001B[43mold_token\u001B[49m\u001B[43m[\u001B[49m\u001B[38;5;124;43m'\u001B[39;49m\u001B[38;5;124;43mrefresh_token\u001B[39;49m\u001B[38;5;124;43m'\u001B[39;49m\u001B[43m]\u001B[49m\u001B[43m,\u001B[49m\n\u001B[0;32m    252\u001B[0m \u001B[43m    \u001B[49m\u001B[43maccess_type\u001B[49m\u001B[38;5;241;43m=\u001B[39;49m\u001B[38;5;124;43m'\u001B[39;49m\u001B[38;5;124;43moffline\u001B[39;49m\u001B[38;5;124;43m'\u001B[39;49m\u001B[43m)\u001B[49m\n\u001B[0;32m    254\u001B[0m logger\u001B[38;5;241m.\u001B[39minfo(\u001B[38;5;124m'\u001B[39m\u001B[38;5;124mUpdated refresh token\u001B[39m\u001B[38;5;124m'\u001B[39m)\n\u001B[0;32m    256\u001B[0m \u001B[38;5;28mself\u001B[39m\u001B[38;5;241m.\u001B[39mcreation_timestamp \u001B[38;5;241m=\u001B[39m now\n",
      "File \u001B[1;32mc:\\users\\bjahn\\pycharmprojects\\backtest_notebook\\venv\\lib\\site-packages\\authlib\\oauth2\\client.py:202\u001B[0m, in \u001B[0;36mOAuth2Client.fetch_token\u001B[1;34m(self, url, body, method, headers, auth, grant_type, state, **kwargs)\u001B[0m\n\u001B[0;32m    199\u001B[0m \u001B[38;5;28;01mif\u001B[39;00m url \u001B[38;5;129;01mis\u001B[39;00m \u001B[38;5;28;01mNone\u001B[39;00m:\n\u001B[0;32m    200\u001B[0m     url \u001B[38;5;241m=\u001B[39m \u001B[38;5;28mself\u001B[39m\u001B[38;5;241m.\u001B[39mmetadata\u001B[38;5;241m.\u001B[39mget(\u001B[38;5;124m'\u001B[39m\u001B[38;5;124mtoken_endpoint\u001B[39m\u001B[38;5;124m'\u001B[39m)\n\u001B[1;32m--> 202\u001B[0m \u001B[38;5;28;01mreturn\u001B[39;00m \u001B[38;5;28mself\u001B[39m\u001B[38;5;241m.\u001B[39m_fetch_token(\n\u001B[0;32m    203\u001B[0m     url, body\u001B[38;5;241m=\u001B[39mbody, auth\u001B[38;5;241m=\u001B[39mauth, method\u001B[38;5;241m=\u001B[39mmethod,\n\u001B[0;32m    204\u001B[0m     headers\u001B[38;5;241m=\u001B[39mheaders, \u001B[38;5;241m*\u001B[39m\u001B[38;5;241m*\u001B[39msession_kwargs\n\u001B[0;32m    205\u001B[0m )\n",
      "File \u001B[1;32mc:\\users\\bjahn\\pycharmprojects\\backtest_notebook\\venv\\lib\\site-packages\\authlib\\oauth2\\client.py:353\u001B[0m, in \u001B[0;36mOAuth2Client._fetch_token\u001B[1;34m(self, url, body, headers, auth, method, **kwargs)\u001B[0m\n\u001B[0;32m    350\u001B[0m \u001B[38;5;28;01mfor\u001B[39;00m hook \u001B[38;5;129;01min\u001B[39;00m \u001B[38;5;28mself\u001B[39m\u001B[38;5;241m.\u001B[39mcompliance_hook[\u001B[38;5;124m'\u001B[39m\u001B[38;5;124maccess_token_response\u001B[39m\u001B[38;5;124m'\u001B[39m]:\n\u001B[0;32m    351\u001B[0m     resp \u001B[38;5;241m=\u001B[39m hook(resp)\n\u001B[1;32m--> 353\u001B[0m \u001B[43mresp\u001B[49m\u001B[38;5;241;43m.\u001B[39;49m\u001B[43mraise_for_status\u001B[49m\u001B[43m(\u001B[49m\u001B[43m)\u001B[49m\n\u001B[0;32m    354\u001B[0m \u001B[38;5;28;01mreturn\u001B[39;00m \u001B[38;5;28mself\u001B[39m\u001B[38;5;241m.\u001B[39mparse_response_token(resp\u001B[38;5;241m.\u001B[39mjson())\n",
      "File \u001B[1;32mc:\\users\\bjahn\\pycharmprojects\\backtest_notebook\\venv\\lib\\site-packages\\httpx\\_models.py:736\u001B[0m, in \u001B[0;36mResponse.raise_for_status\u001B[1;34m(self)\u001B[0m\n\u001B[0;32m    734\u001B[0m error_type \u001B[38;5;241m=\u001B[39m error_types\u001B[38;5;241m.\u001B[39mget(status_class, \u001B[38;5;124m\"\u001B[39m\u001B[38;5;124mInvalid status code\u001B[39m\u001B[38;5;124m\"\u001B[39m)\n\u001B[0;32m    735\u001B[0m message \u001B[38;5;241m=\u001B[39m message\u001B[38;5;241m.\u001B[39mformat(\u001B[38;5;28mself\u001B[39m, error_type\u001B[38;5;241m=\u001B[39merror_type)\n\u001B[1;32m--> 736\u001B[0m \u001B[38;5;28;01mraise\u001B[39;00m HTTPStatusError(message, request\u001B[38;5;241m=\u001B[39mrequest, response\u001B[38;5;241m=\u001B[39m\u001B[38;5;28mself\u001B[39m)\n",
      "\u001B[1;31mHTTPStatusError\u001B[0m: Client error '400 Bad Request' for url 'https://api.tdameritrade.com/v1/oauth2/token'\nFor more information check: https://httpstatuses.com/400"
     ]
    }
   ],
   "source": [
    "import scripts\n",
    "\n",
    "_strategy_lookup, tx_tables, price_histories, bench = sad.main(\n",
    "    td_client=td_client,\n",
    "    sub_sectors= [],\n",
    "    symbols=['FRC'] + list(watch_stocks)\n",
    ")\n",
    "# inputs\n",
    "equity = 25000\n",
    "ticks = ['SPY']\n",
    "\n",
    "def get_strategy_data(symbol, conn):\n",
    "    price_data = pd.read_sql(\n",
    "        f\"SELECT * FROM price_data where symbol = \\'{symbol}\\'\",\n",
    "        conn\n",
    "    )\n",
    "    peak_data = pd.read_sql(\n",
    "        f\"SELECT * FROM peak where symbol = \\'{symbol}\\'\",\n",
    "        conn\n",
    "    )\n",
    "    regime_data = pd.read_sql(\n",
    "        f\"SELECT * FROM regime where symbol = \\'{symbol}\\'\",\n",
    "        conn\n",
    "    )\n",
    "    return price_data, peak_data, regime_data\n",
    "\n",
    "def generate_order_book(conn, equity, ticks):\n",
    "    order_book = pd.DataFrame()\n",
    "    for tick in ticks:\n",
    "        price_data, peak_data, regime_data = get_strategy_data(tick, conn)\n",
    "        if regime_data.loc[regime_data['type'] == 'fc'].empty:\n",
    "            continue\n",
    "        stop_level, entry_price = scripts.account_data.get_stop_level(FcStrategyData())\n",
    "        order_book = order_book.append(\n",
    "            conn.get_order_book(tick, equity)\n",
    "        )\n",
    "    return order_book"
   ],
   "metadata": {
    "collapsed": false
   }
  },
  {
   "cell_type": "code",
   "execution_count": null,
   "outputs": [],
   "source": [
    "order_table = pd.read_excel(pathlib.Path('..') / 'data' / 'order_table.xlsx', index_col=0)"
   ],
   "metadata": {
    "collapsed": false
   }
  },
  {
   "cell_type": "code",
   "execution_count": null,
   "outputs": [],
   "source": [
    "order_table"
   ],
   "metadata": {
    "collapsed": false
   }
  },
  {
   "cell_type": "code",
   "execution_count": null,
   "outputs": [],
   "source": [
    "symbol = 'BALL'\n",
    "od = order_table[order_table.symbol == symbol]"
   ],
   "metadata": {
    "collapsed": false
   }
  },
  {
   "cell_type": "code",
   "execution_count": null,
   "outputs": [],
   "source": [
    "epd = _strategy_lookup[symbol].enhanced_price_data.copy()"
   ],
   "metadata": {
    "collapsed": false
   }
  },
  {
   "cell_type": "code",
   "execution_count": null,
   "outputs": [],
   "source": [
    "_pt = _strategy_lookup[symbol].peak_table.copy()\n",
    "# _pt = pda.PeakTable(_pt)\n",
    "# _pt = _pt.unpivot(_symbol_data.index)\n",
    "# _pt = _pt.loc[~_pt.index.duplicated(keep='first')]\n",
    "def filter_duplicates(_sw):\n",
    "    return _sw.loc[~_sw.index.duplicated(keep='first')]\n",
    "\n",
    "_shi_px = _pt.loc[(_pt.type == -1)].set_index('end')\n",
    "_slo_px = _pt.loc[(_pt.type == 1)].set_index('end')\n",
    "_shis = []\n",
    "_slos = []\n",
    "for i in range(1, 5):\n",
    "    _shis.append(\n",
    "        _shi_px.loc[(_shi_px.lvl == i)]\n",
    "    )\n",
    "    _shis[i-1] = filter_duplicates(_shis[i-1])\n",
    "    _slos.append(\n",
    "        _slo_px.loc[(_slo_px.lvl == i)]\n",
    "    )\n",
    "    _slos[i-1] = filter_duplicates(_slos[i-1])\n",
    "    epd[f'hi{i}_lag'] = _shis[i-1].en_px\n",
    "    epd[f'lo{i}_lag'] = _slos[i-1].en_px\n",
    "\n",
    "epd['hi_band'] = epd.close.rolling(256).max()\n",
    "epd['lo_band'] = epd.close.rolling(256).min()\n",
    "epd['trade_range'] = epd.hi_band - epd.lo_band\n",
    "epd['40pct_band'] = epd.trade_range * .4 + epd.lo_band\n",
    "epd['61pct_band'] = epd.trade_range * .61 + epd.lo_band"
   ],
   "metadata": {
    "collapsed": false
   }
  },
  {
   "cell_type": "code",
   "execution_count": null,
   "outputs": [],
   "source": [
    "def plot(lvl):\n",
    "    epd[[\n",
    "        'close',\n",
    "        'rg',\n",
    "        f'hi{lvl}',\n",
    "        f'lo{lvl}',\n",
    "        f'hi{lvl}_lag',\n",
    "        f'lo{lvl}_lag',\n",
    "        '61pct_band',\n",
    "        '40pct_band'\n",
    "    ]].plot(\n",
    "        style=[\n",
    "            'b',\n",
    "            'y',\n",
    "            'ro',\n",
    "            'go',\n",
    "            'kv',\n",
    "            'k^',\n",
    "            'r-',\n",
    "            'g-'\n",
    "        ], figsize=[12, 5], secondary_y='rg', grid=True, title=f'symbol lvl {lvl}')\n",
    "\n",
    "# plot(4)\n",
    "plot(3)\n",
    "plot(2)\n",
    "plot(1)"
   ],
   "metadata": {
    "collapsed": false
   }
  }
 ],
 "metadata": {
  "kernelspec": {
   "display_name": "Python 3",
   "language": "python",
   "name": "python3"
  },
  "language_info": {
   "codemirror_mode": {
    "name": "ipython",
    "version": 2
   },
   "file_extension": ".py",
   "mimetype": "text/x-python",
   "name": "python",
   "nbconvert_exporter": "python",
   "pygments_lexer": "ipython2",
   "version": "2.7.6"
  }
 },
 "nbformat": 4,
 "nbformat_minor": 0
}
